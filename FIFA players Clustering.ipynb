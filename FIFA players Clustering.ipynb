{
 "cells": [
  {
   "cell_type": "markdown",
   "metadata": {},
   "source": [
    "# <h1><center>Analysis of FIFA Player Dataset</center></h1>"
   ]
  },
  {
   "cell_type": "markdown",
   "metadata": {},
   "source": [
    "## Table of Contents"
   ]
  },
  {
   "cell_type": "markdown",
   "metadata": {},
   "source": [
    "- Executive Summary\n",
    "- Project Motivation / Background\n",
    "- Data Description\n",
    "- Data Import\n",
    "- Data Transformation/ Exploratory Data Analysis\n",
    "    - Checking for null values\n",
    "    - Feature Engineering\n",
    "- Descriptive Analysis    \n",
    "    - Players Skill set Analysis\n",
    "    - Players Weak Foot Vs Strong Foot\n",
    "    - Players Work Rate\n",
    "    - Players Value\n",
    "    - Players Age\n",
    "- Model Building\n",
    "    - Splitting the dataset into Training and Test set\n",
    "    - Scaling the data\n",
    "- Models and Analysis \n",
    "    - Linear Regression\n",
    "    - Ridge Regressor\n",
    "    - Lasso Regressor\n",
    "    - KNN Regressor\n",
    "    - Decision Tree Regressor\n",
    "    - Random Forest Regressor\n",
    "    - K-Means Clustering\n",
    "    - Cluster Analysis and Insights\n",
    "- Conclusion"
   ]
  },
  {
   "cell_type": "markdown",
   "metadata": {},
   "source": [
    "## Executive Summary"
   ]
  },
  {
   "cell_type": "markdown",
   "metadata": {},
   "source": [
    "We have selected FIFA player data set for our project and performed various analysis with the aim of extracting intuitive insights. The data set we have used consists of player information and their attributes. We have performed exploratory data analysis such as removing null values, outliers and encoding the categorical variables. Once the data has been pre processed five various machine learning algorithms were implemented to predict the wage of the players. In addition to that, clustering is performed to classify players into three categories namely average, good and best. Further into our analysis evaluation methods such as precision and recall have been calculated along with MAE values and confusion matrix. "
   ]
  },
  {
   "cell_type": "markdown",
   "metadata": {},
   "source": [
    "## Project Motivation / Background "
   ]
  },
  {
   "cell_type": "markdown",
   "metadata": {},
   "source": [
    "FIFA 19 is a football simulation video game developed by EA Vancouver as part of Electronic Arts’ FIFA series. Announced on 6 June 2018 for its E3 2018 press conference, it was released on 28 September 2018 for PlayStation 3, PlayStation 4, Xbox 360, Xbox One, Nintendo Switch, and Microsoft Windows. It is the 26th installment in the FIFA series. As with FIFA 18, Cristiano Ronaldo appears as the cover athlete of the regular edition.\n",
    "\n",
    "The main aim of the project is to provide international managers with an information of players and the measure of their skills and assist them in their national team selection process.We have analyzed which players to target if a manager wants to manage a team and shape their team into a complete success. \n",
    "\n",
    "While we were at the process of achieving our goal, we made sure we would present with additional useful informations such as descriptve analysis pertaining to a player's skill set, team information and so on. Our motivation is to enlighten the minds of people who follow football as well as people who don't and fill their minds with interesting facts about this favorite sport. "
   ]
  },
  {
   "cell_type": "markdown",
   "metadata": {},
   "source": [
    "## Data Description"
   ]
  },
  {
   "cell_type": "markdown",
   "metadata": {},
   "source": [
    " - The data set consists of nearly 160K observations and 81 attributes. \n",
    " - The data is about players and their club football attributes. This helped us to analyze their profile and their value in club football and their chance of getting into their national football team. \n",
    " - Some of the features in the data set are player information such as name, age, potential, nationality, position etc and their general attributes such as acceleration, agility, stamina etc., \n",
    " - There are attackers, midfielders and defensive players in football. Corresponding to that the data set contains their attack work rate and defense work rate to add further information about their skill level in addition to their overall. \n",
    " - The data set also includes player wages of the clubs they belong to and all the above mentioned attributes helped us in determining their worth on getting placed in a national team. \n",
    "\n"
   ]
  },
  {
   "cell_type": "markdown",
   "metadata": {},
   "source": [
    "## Data transformation/Exploratory data analysis"
   ]
  },
  {
   "cell_type": "markdown",
   "metadata": {},
   "source": [
    "- We have performed EDA to understand the descriptive statistics of the numerical features. Through the analysis we have inferred the following information,\n",
    "- The mean age of of the players is 24.98. This implies that a lot of players are in their prime levels on their football  careers which makes the sport very intersting. The oldest player has an age of 39 and the youngest player is of an age of 16 and full of promise. \n",
    "- The average overall of a player is 66. This might be disappointing because an overall above 75 is usually considered good.The highest overall a player possess is 94 and the lowest overall is 46. \n",
    "- The average weak foot rating of a player is 3 which is surprising. It is usual that a player performs well with his strong foot and not on his weak foot. The average being 3 implies that nowadays players are concentrating on training with their weak foot too. \n",
    "\n"
   ]
  },
  {
   "cell_type": "markdown",
   "metadata": {},
   "source": [
    "### Checking for Null Values"
   ]
  },
  {
   "cell_type": "markdown",
   "metadata": {},
   "source": [
    "- Out of all the features, major null values are found in the joined attribute and release clause. These are later remove for the ease of modeling"
   ]
  },
  {
   "cell_type": "markdown",
   "metadata": {},
   "source": [
    "### Feature engineering"
   ]
  },
  {
   "cell_type": "markdown",
   "metadata": {},
   "source": [
    "- The categorical variables are encoded to numerical features for ease of modelling. The ordinal variables are coverted using the LabelEncoder algorithm or get_dummies function from pandas library.\n",
    "- The pd.get_dummies creates binary variables depending upon the frequency of categories across all categorical variables.\n",
    "- These encoding techniques increases the dimensions of the dataset, which results in \"Curse of Dimensionality\". THis issue is solved by implementing dimeniosnality reduction techniques like PCA"
   ]
  },
  {
   "cell_type": "markdown",
   "metadata": {},
   "source": [
    "## Descriptive Analysis"
   ]
  },
  {
   "cell_type": "markdown",
   "metadata": {},
   "source": [
    "- Most of the players hail from England. This might be due to the fact that Premier League is played in England which is one of the most popular leagues and widely followed around the world. England has a good count of football players than other countries like Germany, Spain etc. "
   ]
  },
  {
   "cell_type": "markdown",
   "metadata": {},
   "source": [
    "### Players Skill set Analysis"
   ]
  },
  {
   "cell_type": "markdown",
   "metadata": {},
   "source": [
    "- The best players based on their individual skill plays are recorded below. \n",
    "- For example, the best player in crossing has a rating of 92. \n",
    "- Even the best finisher cannot finish upto a 100% skill level. That is the beauty of football maximum perfection is not possible. \n",
    "- The player with the highest aggression as an aggression rating of 81. Once can expect him to earn a lot of red/yellow cards during his tenure"
   ]
  },
  {
   "cell_type": "markdown",
   "metadata": {},
   "source": [
    "### Players Weak Foot Vs Strong Foot"
   ]
  },
  {
   "cell_type": "markdown",
   "metadata": {},
   "source": [
    "- The number of players who are right footed far outnumber the number of players with left foot. \n",
    "- One doesn't simply say that Messi's left foot is precious!"
   ]
  },
  {
   "cell_type": "markdown",
   "metadata": {},
   "source": [
    "### Players Work Rate"
   ]
  },
  {
   "cell_type": "markdown",
   "metadata": {},
   "source": [
    "- The players with the attack work rate as medium is very high. This means that players really concentrate on their games than tacking their opponents. The same applied for defense work rate too"
   ]
  },
  {
   "cell_type": "markdown",
   "metadata": {},
   "source": [
    "### Players Value"
   ]
  },
  {
   "cell_type": "markdown",
   "metadata": {},
   "source": [
    "- Players who are playing as a strikers are valued highly than others. This is because these are the people who score most of the goals in a match. \n",
    "- The players who play right and left forward has relatively low values because a lot of players play in this position and it gets really competitive. "
   ]
  },
  {
   "cell_type": "markdown",
   "metadata": {},
   "source": [
    "### Players Age"
   ]
  },
  {
   "cell_type": "markdown",
   "metadata": {},
   "source": [
    "- From the histogram we can see that the highest number of players are 21 years old. The mean is around the age of 25. This is generally true, as younger players tend to bring in new talent and creative playstyles.\n",
    "- We also see that there is a steep drop in the data after the age of 30. Post this age, players are not preferred for recruitment as the younger talent pool tends to overshadow the older players."
   ]
  },
  {
   "cell_type": "markdown",
   "metadata": {},
   "source": [
    "## Model building"
   ]
  },
  {
   "cell_type": "markdown",
   "metadata": {},
   "source": [
    "Importing the libraries required for modelling"
   ]
  },
  {
   "cell_type": "markdown",
   "metadata": {},
   "source": [
    "### Splitting the dataset into Training and Test set"
   ]
  },
  {
   "cell_type": "markdown",
   "metadata": {},
   "source": [
    "The input features and the target variable are named seperately from the dataset"
   ]
  },
  {
   "cell_type": "markdown",
   "metadata": {},
   "source": [
    "The dataset is divided into Training set and Test set. The Model is estimated and fit on the Training set and the results are evaluated on the Test set. This process is done to avoid overfitting which is a major cause of poor model performance."
   ]
  },
  {
   "cell_type": "markdown",
   "metadata": {},
   "source": [
    "### Scaling the data"
   ]
  },
  {
   "cell_type": "markdown",
   "metadata": {},
   "source": [
    "- Once all the features are converted to numerical features, they are normalized using StandardScaler package. The features are normalized by subtracting the values from the mean and dividing by their Standard Deviation.\n",
    "- The features are scled to avoid bias in the modelling. If features of different unit scale, then the features of higher values influence the model higher when compared to lesser values."
   ]
  },
  {
   "cell_type": "markdown",
   "metadata": {},
   "source": [
    "## Models and Analysis "
   ]
  },
  {
   "cell_type": "markdown",
   "metadata": {},
   "source": [
    "### Linear regression"
   ]
  },
  {
   "cell_type": "markdown",
   "metadata": {},
   "source": [
    "- Linear regression is fit on the Training data. The input features are proocessed through the model to predict the wages of the Players. The Linear regression model performs poor due to the non-linearity of the data, it achieves an accuracy of 75% on the training data and 73% on the test data."
   ]
  },
  {
   "cell_type": "markdown",
   "metadata": {},
   "source": [
    "### Ridge Regressor"
   ]
  },
  {
   "cell_type": "markdown",
   "metadata": {},
   "source": [
    "- The overfitting problem is handled by the penalizing the higher coefficients of the model. We induce bias through Ridge regression by adding penalty to the dominating coefficients.\n",
    "- The penaty values for the RIdge regression are chosen by hyper-optimization method. Different values are tested on the Training data to finalize the penalty (alpha) value that gives the highest predictive performance.\n",
    "- The best predictive performance is achieved with an alpha value of 0.1 that provides 76.8% accuracy on Training data and 74% on Test data."
   ]
  },
  {
   "cell_type": "markdown",
   "metadata": {},
   "source": [
    "### Lasso Regression"
   ]
  },
  {
   "cell_type": "markdown",
   "metadata": {},
   "source": [
    "- The same penalization of coeffcients is performed in Lasso Regression. Here we push the notch further by nullifying the effects of higly insignificant features.\n",
    "- By setting an alpha value of 0, Lasso Regression also eliminates insigninficant features thereby performing Variable Regression.\n",
    "- Thus the Lasso Regression provides us the final subset of features that are significant for the predictive model.\n",
    "- Lasso regression with an alpha value of 0.01 provides an accuracy of 75% on Training data and 75% on Test data"
   ]
  },
  {
   "cell_type": "markdown",
   "metadata": {},
   "source": [
    "### KNN Regressor"
   ]
  },
  {
   "cell_type": "markdown",
   "metadata": {},
   "source": [
    "- KNN regressor performs wells on the in-sample data and not so great on the out-of sample data.This explains the problem of overfitting. \n",
    "- Hyper parameter optimization is performed to choose the optimal values of K (no of neighbours). Through the cross-validation process, we infered that the best accuracy scores are achieved at 83% on Training data and 71% on Test data using K=4"
   ]
  },
  {
   "cell_type": "markdown",
   "metadata": {},
   "source": [
    "### Decision Tree Regressor"
   ]
  },
  {
   "cell_type": "markdown",
   "metadata": {},
   "source": [
    "- We implement the DecisonTree Regressor from the tree package. Using the branching of nodes and tree analogy, the wages of the player are estimated.\n",
    "- The Decision tree regressor achieved an accuracy of 80% on Training data and 73% on Test data."
   ]
  },
  {
   "cell_type": "markdown",
   "metadata": {},
   "source": [
    "### Random Forest regressor"
   ]
  },
  {
   "cell_type": "markdown",
   "metadata": {},
   "source": [
    "- Random forest regressor achieves the best predicitve performance with 97% on the Training data and 77% on the Test data.\n",
    "- Random Forest regressor has outperformed all other models as they are robust to outliers and overfitting cases"
   ]
  },
  {
   "cell_type": "markdown",
   "metadata": {},
   "source": [
    "### K-Means Clustering"
   ]
  },
  {
   "cell_type": "markdown",
   "metadata": {},
   "source": [
    "- In the FIFA data, finding the best set of players is imperative. This information is crucial to properly gauge the ability and value. \n",
    "- The dataset consists of each players ability, based on the performance rating or player attributes. Most of the attributes are numerical and are having a range between 0 to 100. There are some other attributes such as weight and height which were not to scale. \n",
    "- It was prudent to use unsupervised learning, since there were no past data and to use supervised models. Clustering was the best method to separate the best players from the average. \n",
    "- The data had very low outliers and numeric values. \n",
    "- PCA was used to reduce the dimension of the data capturing 90% of the information in 17 components.\n",
    "- K- means seemed to be the idle method to apply and separate the players.\n",
    "- The data was scaled or normalized using the standard scaler and the categorical variables were converted into numeric variables using label encoder.\n",
    "- Kmeans clustering algorithm was run with 3 clusters to separate the players. \n",
    "- The best cluster were ranked using cluster score.\n",
    "- Each cluster’s background was analyzed and interesting outcomes were obtained.\n",
    "\n"
   ]
  },
  {
   "cell_type": "markdown",
   "metadata": {},
   "source": [
    "### Cluster Analysis and Insights "
   ]
  },
  {
   "cell_type": "markdown",
   "metadata": {},
   "source": [
    "#### Best Cluster"
   ]
  },
  {
   "cell_type": "markdown",
   "metadata": {},
   "source": [
    "- England, Germany and Argentina were found to have the most number of best players in fifa 19.\n",
    "- The number of players who are under this cluster are shown by visualization based on their positions\n",
    "- The best cluster contains players of Striker position dominating it followed by right and left mid field positions."
   ]
  },
  {
   "cell_type": "markdown",
   "metadata": {},
   "source": [
    "#### Good Cluster"
   ]
  },
  {
   "cell_type": "markdown",
   "metadata": {},
   "source": [
    "- England , Germany, France were found to have the most number of good players in fifa 19\n",
    "- The number of players who are under this cluster are shown by visualization based on their positions\n",
    "- The good cluster contains players of Center back position dominating it followed by right back and left back. "
   ]
  },
  {
   "cell_type": "markdown",
   "metadata": {},
   "source": [
    "#### Average Cluster "
   ]
  },
  {
   "cell_type": "markdown",
   "metadata": {},
   "source": [
    "- Spain, Brazil and England were found to have the most number of good players in fifa 19.\n",
    "- The number of players who are under this cluster are shown by visualization based on their positions\n",
    "- Center mid field has the most number of average players."
   ]
  },
  {
   "cell_type": "markdown",
   "metadata": {},
   "source": [
    "## Conclusion "
   ]
  },
  {
   "cell_type": "markdown",
   "metadata": {},
   "source": [
    "- Our analysis has given us fruitful results and information about players and their attributes. \n",
    "- This will be benificial for the National Team managers to choose the players from our clusters. \n",
    "- After running the models on both the training and test test, we have inferred that Random forest has outperformed all other models with an accuracy of \n",
    "    - Training set accuracy:97%\n",
    "    - Test set accuracy:77%\n",
    "- Our clustering model seperates the players into three groups from which the managers can select the players that they want. "
   ]
  },
  {
   "cell_type": "markdown",
   "metadata": {},
   "source": [
    "## Appendix: python codes with proper documentations "
   ]
  },
  {
   "cell_type": "code",
   "execution_count": 2,
   "metadata": {},
   "outputs": [],
   "source": [
    "import pandas as pd\n",
    "import numpy as np\n",
    "import matplotlib.pyplot as plt\n",
    "import seaborn as sns\n",
    "from scipy import stats"
   ]
  },
  {
   "cell_type": "code",
   "execution_count": 19,
   "metadata": {},
   "outputs": [],
   "source": [
    "from IPython.core.interactiveshell import InteractiveShell\n",
    "InteractiveShell.ast_node_interactivity = \"all\""
   ]
  },
  {
   "cell_type": "code",
   "execution_count": 4,
   "metadata": {},
   "outputs": [],
   "source": [
    "fifa_data=pd.read_excel('fifa.xlsx')\n"
   ]
  },
  {
   "cell_type": "code",
   "execution_count": 5,
   "metadata": {},
   "outputs": [
    {
     "data": {
      "text/html": [
       "<div>\n",
       "<style scoped>\n",
       "    .dataframe tbody tr th:only-of-type {\n",
       "        vertical-align: middle;\n",
       "    }\n",
       "\n",
       "    .dataframe tbody tr th {\n",
       "        vertical-align: top;\n",
       "    }\n",
       "\n",
       "    .dataframe thead th {\n",
       "        text-align: right;\n",
       "    }\n",
       "</style>\n",
       "<table border=\"1\" class=\"dataframe\">\n",
       "  <thead>\n",
       "    <tr style=\"text-align: right;\">\n",
       "      <th></th>\n",
       "      <th>0</th>\n",
       "      <th>1</th>\n",
       "      <th>2</th>\n",
       "      <th>3</th>\n",
       "      <th>4</th>\n",
       "    </tr>\n",
       "  </thead>\n",
       "  <tbody>\n",
       "    <tr>\n",
       "      <th>ID</th>\n",
       "      <td>16</td>\n",
       "      <td>41</td>\n",
       "      <td>80</td>\n",
       "      <td>164</td>\n",
       "      <td>657</td>\n",
       "    </tr>\n",
       "    <tr>\n",
       "      <th>Name</th>\n",
       "      <td>Luis García</td>\n",
       "      <td>Iniesta</td>\n",
       "      <td>E. Belözoğlu</td>\n",
       "      <td>G. Pinzi</td>\n",
       "      <td>D. Vaughan</td>\n",
       "    </tr>\n",
       "    <tr>\n",
       "      <th>Age</th>\n",
       "      <td>37</td>\n",
       "      <td>34</td>\n",
       "      <td>37</td>\n",
       "      <td>37</td>\n",
       "      <td>35</td>\n",
       "    </tr>\n",
       "    <tr>\n",
       "      <th>Nationality</th>\n",
       "      <td>Spain</td>\n",
       "      <td>Spain</td>\n",
       "      <td>Turkey</td>\n",
       "      <td>Italy</td>\n",
       "      <td>Wales</td>\n",
       "    </tr>\n",
       "    <tr>\n",
       "      <th>Overall</th>\n",
       "      <td>71</td>\n",
       "      <td>86</td>\n",
       "      <td>79</td>\n",
       "      <td>70</td>\n",
       "      <td>66</td>\n",
       "    </tr>\n",
       "    <tr>\n",
       "      <th>Potential</th>\n",
       "      <td>71</td>\n",
       "      <td>86</td>\n",
       "      <td>79</td>\n",
       "      <td>70</td>\n",
       "      <td>66</td>\n",
       "    </tr>\n",
       "    <tr>\n",
       "      <th>Value</th>\n",
       "      <td>750000</td>\n",
       "      <td>2.15e+07</td>\n",
       "      <td>4e+06</td>\n",
       "      <td>240000</td>\n",
       "      <td>150000</td>\n",
       "    </tr>\n",
       "    <tr>\n",
       "      <th>Wage</th>\n",
       "      <td>6000</td>\n",
       "      <td>21000</td>\n",
       "      <td>23000</td>\n",
       "      <td>2000</td>\n",
       "      <td>4000</td>\n",
       "    </tr>\n",
       "    <tr>\n",
       "      <th>Special</th>\n",
       "      <td>1906</td>\n",
       "      <td>2058</td>\n",
       "      <td>2047</td>\n",
       "      <td>1882</td>\n",
       "      <td>1781</td>\n",
       "    </tr>\n",
       "    <tr>\n",
       "      <th>Preferred Foot</th>\n",
       "      <td>Right</td>\n",
       "      <td>Right</td>\n",
       "      <td>Left</td>\n",
       "      <td>Right</td>\n",
       "      <td>Left</td>\n",
       "    </tr>\n",
       "    <tr>\n",
       "      <th>International Reputation</th>\n",
       "      <td>1</td>\n",
       "      <td>4</td>\n",
       "      <td>2</td>\n",
       "      <td>2</td>\n",
       "      <td>1</td>\n",
       "    </tr>\n",
       "    <tr>\n",
       "      <th>Weak Foot</th>\n",
       "      <td>4</td>\n",
       "      <td>4</td>\n",
       "      <td>4</td>\n",
       "      <td>3</td>\n",
       "      <td>3</td>\n",
       "    </tr>\n",
       "    <tr>\n",
       "      <th>Skill Moves</th>\n",
       "      <td>3</td>\n",
       "      <td>4</td>\n",
       "      <td>4</td>\n",
       "      <td>3</td>\n",
       "      <td>2</td>\n",
       "    </tr>\n",
       "    <tr>\n",
       "      <th>attack_Work_Rate</th>\n",
       "      <td>Medium</td>\n",
       "      <td>High</td>\n",
       "      <td>Medium</td>\n",
       "      <td>Low</td>\n",
       "      <td>Medium</td>\n",
       "    </tr>\n",
       "    <tr>\n",
       "      <th>defense_workrate</th>\n",
       "      <td>Medium</td>\n",
       "      <td>Medium</td>\n",
       "      <td>Medium</td>\n",
       "      <td>High</td>\n",
       "      <td>High</td>\n",
       "    </tr>\n",
       "    <tr>\n",
       "      <th>Position</th>\n",
       "      <td>RCM</td>\n",
       "      <td>LF</td>\n",
       "      <td>CM</td>\n",
       "      <td>LCM</td>\n",
       "      <td>CDM</td>\n",
       "    </tr>\n",
       "    <tr>\n",
       "      <th>Joined</th>\n",
       "      <td>2014-07-19 00:00:00</td>\n",
       "      <td>2018-07-16 00:00:00</td>\n",
       "      <td>2015-07-09 00:00:00</td>\n",
       "      <td>2017-08-31 00:00:00</td>\n",
       "      <td>2018-07-06 00:00:00</td>\n",
       "    </tr>\n",
       "    <tr>\n",
       "      <th>Contract Valid Until</th>\n",
       "      <td>2019</td>\n",
       "      <td>2021</td>\n",
       "      <td>2019</td>\n",
       "      <td>2019</td>\n",
       "      <td>2019</td>\n",
       "    </tr>\n",
       "    <tr>\n",
       "      <th>Height</th>\n",
       "      <td>70</td>\n",
       "      <td>67</td>\n",
       "      <td>67</td>\n",
       "      <td>71</td>\n",
       "      <td>66</td>\n",
       "    </tr>\n",
       "    <tr>\n",
       "      <th>Weight</th>\n",
       "      <td>143</td>\n",
       "      <td>150</td>\n",
       "      <td>159</td>\n",
       "      <td>168</td>\n",
       "      <td>154</td>\n",
       "    </tr>\n",
       "    <tr>\n",
       "      <th>LS</th>\n",
       "      <td>66</td>\n",
       "      <td>74</td>\n",
       "      <td>67</td>\n",
       "      <td>63</td>\n",
       "      <td>59</td>\n",
       "    </tr>\n",
       "    <tr>\n",
       "      <th>ST</th>\n",
       "      <td>66</td>\n",
       "      <td>74</td>\n",
       "      <td>67</td>\n",
       "      <td>63</td>\n",
       "      <td>59</td>\n",
       "    </tr>\n",
       "    <tr>\n",
       "      <th>RS</th>\n",
       "      <td>66</td>\n",
       "      <td>74</td>\n",
       "      <td>67</td>\n",
       "      <td>63</td>\n",
       "      <td>59</td>\n",
       "    </tr>\n",
       "    <tr>\n",
       "      <th>LW</th>\n",
       "      <td>67</td>\n",
       "      <td>82</td>\n",
       "      <td>72</td>\n",
       "      <td>64</td>\n",
       "      <td>59</td>\n",
       "    </tr>\n",
       "    <tr>\n",
       "      <th>LF</th>\n",
       "      <td>68</td>\n",
       "      <td>81</td>\n",
       "      <td>72</td>\n",
       "      <td>64</td>\n",
       "      <td>60</td>\n",
       "    </tr>\n",
       "    <tr>\n",
       "      <th>CF</th>\n",
       "      <td>68</td>\n",
       "      <td>81</td>\n",
       "      <td>72</td>\n",
       "      <td>64</td>\n",
       "      <td>60</td>\n",
       "    </tr>\n",
       "    <tr>\n",
       "      <th>RF</th>\n",
       "      <td>68</td>\n",
       "      <td>81</td>\n",
       "      <td>72</td>\n",
       "      <td>64</td>\n",
       "      <td>60</td>\n",
       "    </tr>\n",
       "    <tr>\n",
       "      <th>RW</th>\n",
       "      <td>67</td>\n",
       "      <td>82</td>\n",
       "      <td>72</td>\n",
       "      <td>64</td>\n",
       "      <td>59</td>\n",
       "    </tr>\n",
       "    <tr>\n",
       "      <th>LAM</th>\n",
       "      <td>69</td>\n",
       "      <td>85</td>\n",
       "      <td>76</td>\n",
       "      <td>65</td>\n",
       "      <td>62</td>\n",
       "    </tr>\n",
       "    <tr>\n",
       "      <th>CAM</th>\n",
       "      <td>69</td>\n",
       "      <td>85</td>\n",
       "      <td>76</td>\n",
       "      <td>65</td>\n",
       "      <td>62</td>\n",
       "    </tr>\n",
       "    <tr>\n",
       "      <th>...</th>\n",
       "      <td>...</td>\n",
       "      <td>...</td>\n",
       "      <td>...</td>\n",
       "      <td>...</td>\n",
       "      <td>...</td>\n",
       "    </tr>\n",
       "    <tr>\n",
       "      <th>Dribbling</th>\n",
       "      <td>69</td>\n",
       "      <td>90</td>\n",
       "      <td>78</td>\n",
       "      <td>66</td>\n",
       "      <td>62</td>\n",
       "    </tr>\n",
       "    <tr>\n",
       "      <th>Curve</th>\n",
       "      <td>79</td>\n",
       "      <td>80</td>\n",
       "      <td>83</td>\n",
       "      <td>58</td>\n",
       "      <td>68</td>\n",
       "    </tr>\n",
       "    <tr>\n",
       "      <th>FKAccuracy</th>\n",
       "      <td>79</td>\n",
       "      <td>70</td>\n",
       "      <td>80</td>\n",
       "      <td>54</td>\n",
       "      <td>67</td>\n",
       "    </tr>\n",
       "    <tr>\n",
       "      <th>LongPassing</th>\n",
       "      <td>71</td>\n",
       "      <td>85</td>\n",
       "      <td>87</td>\n",
       "      <td>64</td>\n",
       "      <td>68</td>\n",
       "    </tr>\n",
       "    <tr>\n",
       "      <th>BallControl</th>\n",
       "      <td>71</td>\n",
       "      <td>92</td>\n",
       "      <td>82</td>\n",
       "      <td>67</td>\n",
       "      <td>68</td>\n",
       "    </tr>\n",
       "    <tr>\n",
       "      <th>Acceleration</th>\n",
       "      <td>56</td>\n",
       "      <td>70</td>\n",
       "      <td>54</td>\n",
       "      <td>65</td>\n",
       "      <td>33</td>\n",
       "    </tr>\n",
       "    <tr>\n",
       "      <th>SprintSpeed</th>\n",
       "      <td>50</td>\n",
       "      <td>67</td>\n",
       "      <td>38</td>\n",
       "      <td>62</td>\n",
       "      <td>33</td>\n",
       "    </tr>\n",
       "    <tr>\n",
       "      <th>Agility</th>\n",
       "      <td>62</td>\n",
       "      <td>79</td>\n",
       "      <td>68</td>\n",
       "      <td>69</td>\n",
       "      <td>60</td>\n",
       "    </tr>\n",
       "    <tr>\n",
       "      <th>Reactions</th>\n",
       "      <td>65</td>\n",
       "      <td>86</td>\n",
       "      <td>73</td>\n",
       "      <td>67</td>\n",
       "      <td>67</td>\n",
       "    </tr>\n",
       "    <tr>\n",
       "      <th>Balance</th>\n",
       "      <td>72</td>\n",
       "      <td>84</td>\n",
       "      <td>81</td>\n",
       "      <td>63</td>\n",
       "      <td>91</td>\n",
       "    </tr>\n",
       "    <tr>\n",
       "      <th>ShotPower</th>\n",
       "      <td>75</td>\n",
       "      <td>65</td>\n",
       "      <td>77</td>\n",
       "      <td>71</td>\n",
       "      <td>70</td>\n",
       "    </tr>\n",
       "    <tr>\n",
       "      <th>Jumping</th>\n",
       "      <td>54</td>\n",
       "      <td>47</td>\n",
       "      <td>72</td>\n",
       "      <td>69</td>\n",
       "      <td>60</td>\n",
       "    </tr>\n",
       "    <tr>\n",
       "      <th>Stamina</th>\n",
       "      <td>64</td>\n",
       "      <td>55</td>\n",
       "      <td>61</td>\n",
       "      <td>74</td>\n",
       "      <td>50</td>\n",
       "    </tr>\n",
       "    <tr>\n",
       "      <th>Strength</th>\n",
       "      <td>60</td>\n",
       "      <td>58</td>\n",
       "      <td>65</td>\n",
       "      <td>67</td>\n",
       "      <td>58</td>\n",
       "    </tr>\n",
       "    <tr>\n",
       "      <th>LongShots</th>\n",
       "      <td>71</td>\n",
       "      <td>71</td>\n",
       "      <td>76</td>\n",
       "      <td>65</td>\n",
       "      <td>66</td>\n",
       "    </tr>\n",
       "    <tr>\n",
       "      <th>Aggression</th>\n",
       "      <td>71</td>\n",
       "      <td>58</td>\n",
       "      <td>87</td>\n",
       "      <td>75</td>\n",
       "      <td>74</td>\n",
       "    </tr>\n",
       "    <tr>\n",
       "      <th>Interceptions</th>\n",
       "      <td>71</td>\n",
       "      <td>66</td>\n",
       "      <td>66</td>\n",
       "      <td>70</td>\n",
       "      <td>63</td>\n",
       "    </tr>\n",
       "    <tr>\n",
       "      <th>Positioning</th>\n",
       "      <td>72</td>\n",
       "      <td>81</td>\n",
       "      <td>63</td>\n",
       "      <td>61</td>\n",
       "      <td>55</td>\n",
       "    </tr>\n",
       "    <tr>\n",
       "      <th>Vision</th>\n",
       "      <td>73</td>\n",
       "      <td>93</td>\n",
       "      <td>86</td>\n",
       "      <td>65</td>\n",
       "      <td>64</td>\n",
       "    </tr>\n",
       "    <tr>\n",
       "      <th>Penalties</th>\n",
       "      <td>75</td>\n",
       "      <td>71</td>\n",
       "      <td>85</td>\n",
       "      <td>65</td>\n",
       "      <td>66</td>\n",
       "    </tr>\n",
       "    <tr>\n",
       "      <th>Composure</th>\n",
       "      <td>79</td>\n",
       "      <td>89</td>\n",
       "      <td>80</td>\n",
       "      <td>68</td>\n",
       "      <td>82</td>\n",
       "    </tr>\n",
       "    <tr>\n",
       "      <th>Marking</th>\n",
       "      <td>70</td>\n",
       "      <td>67</td>\n",
       "      <td>65</td>\n",
       "      <td>74</td>\n",
       "      <td>59</td>\n",
       "    </tr>\n",
       "    <tr>\n",
       "      <th>StandingTackle</th>\n",
       "      <td>43</td>\n",
       "      <td>57</td>\n",
       "      <td>67</td>\n",
       "      <td>71</td>\n",
       "      <td>66</td>\n",
       "    </tr>\n",
       "    <tr>\n",
       "      <th>SlidingTackle</th>\n",
       "      <td>40</td>\n",
       "      <td>56</td>\n",
       "      <td>60</td>\n",
       "      <td>66</td>\n",
       "      <td>62</td>\n",
       "    </tr>\n",
       "    <tr>\n",
       "      <th>GKDiving</th>\n",
       "      <td>9</td>\n",
       "      <td>6</td>\n",
       "      <td>7</td>\n",
       "      <td>5</td>\n",
       "      <td>6</td>\n",
       "    </tr>\n",
       "    <tr>\n",
       "      <th>GKHandling</th>\n",
       "      <td>12</td>\n",
       "      <td>13</td>\n",
       "      <td>11</td>\n",
       "      <td>15</td>\n",
       "      <td>9</td>\n",
       "    </tr>\n",
       "    <tr>\n",
       "      <th>GKKicking</th>\n",
       "      <td>13</td>\n",
       "      <td>6</td>\n",
       "      <td>7</td>\n",
       "      <td>7</td>\n",
       "      <td>10</td>\n",
       "    </tr>\n",
       "    <tr>\n",
       "      <th>GKPositioning</th>\n",
       "      <td>11</td>\n",
       "      <td>13</td>\n",
       "      <td>14</td>\n",
       "      <td>6</td>\n",
       "      <td>9</td>\n",
       "    </tr>\n",
       "    <tr>\n",
       "      <th>GKReflexes</th>\n",
       "      <td>11</td>\n",
       "      <td>7</td>\n",
       "      <td>8</td>\n",
       "      <td>13</td>\n",
       "      <td>7</td>\n",
       "    </tr>\n",
       "    <tr>\n",
       "      <th>Release Clause</th>\n",
       "      <td>€1.1M</td>\n",
       "      <td>€26.9M</td>\n",
       "      <td>€7.6M</td>\n",
       "      <td>€372K</td>\n",
       "      <td>€263K</td>\n",
       "    </tr>\n",
       "  </tbody>\n",
       "</table>\n",
       "<p>81 rows × 5 columns</p>\n",
       "</div>"
      ],
      "text/plain": [
       "                                            0                    1  \\\n",
       "ID                                         16                   41   \n",
       "Name                              Luis García              Iniesta   \n",
       "Age                                        37                   34   \n",
       "Nationality                             Spain                Spain   \n",
       "Overall                                    71                   86   \n",
       "Potential                                  71                   86   \n",
       "Value                                  750000             2.15e+07   \n",
       "Wage                                     6000                21000   \n",
       "Special                                  1906                 2058   \n",
       "Preferred Foot                          Right                Right   \n",
       "International Reputation                    1                    4   \n",
       "Weak Foot                                   4                    4   \n",
       "Skill Moves                                 3                    4   \n",
       "attack_Work_Rate                       Medium                 High   \n",
       "defense_workrate                       Medium               Medium   \n",
       "Position                                  RCM                   LF   \n",
       "Joined                    2014-07-19 00:00:00  2018-07-16 00:00:00   \n",
       "Contract Valid Until                     2019                 2021   \n",
       "Height                                     70                   67   \n",
       "Weight                                    143                  150   \n",
       "LS                                         66                   74   \n",
       "ST                                         66                   74   \n",
       "RS                                         66                   74   \n",
       "LW                                         67                   82   \n",
       "LF                                         68                   81   \n",
       "CF                                         68                   81   \n",
       "RF                                         68                   81   \n",
       "RW                                         67                   82   \n",
       "LAM                                        69                   85   \n",
       "CAM                                        69                   85   \n",
       "...                                       ...                  ...   \n",
       "Dribbling                                  69                   90   \n",
       "Curve                                      79                   80   \n",
       "FKAccuracy                                 79                   70   \n",
       "LongPassing                                71                   85   \n",
       "BallControl                                71                   92   \n",
       "Acceleration                               56                   70   \n",
       "SprintSpeed                                50                   67   \n",
       "Agility                                    62                   79   \n",
       "Reactions                                  65                   86   \n",
       "Balance                                    72                   84   \n",
       "ShotPower                                  75                   65   \n",
       "Jumping                                    54                   47   \n",
       "Stamina                                    64                   55   \n",
       "Strength                                   60                   58   \n",
       "LongShots                                  71                   71   \n",
       "Aggression                                 71                   58   \n",
       "Interceptions                              71                   66   \n",
       "Positioning                                72                   81   \n",
       "Vision                                     73                   93   \n",
       "Penalties                                  75                   71   \n",
       "Composure                                  79                   89   \n",
       "Marking                                    70                   67   \n",
       "StandingTackle                             43                   57   \n",
       "SlidingTackle                              40                   56   \n",
       "GKDiving                                    9                    6   \n",
       "GKHandling                                 12                   13   \n",
       "GKKicking                                  13                    6   \n",
       "GKPositioning                              11                   13   \n",
       "GKReflexes                                 11                    7   \n",
       "Release Clause                          €1.1M               €26.9M   \n",
       "\n",
       "                                            2                    3  \\\n",
       "ID                                         80                  164   \n",
       "Name                             E. Belözoğlu             G. Pinzi   \n",
       "Age                                        37                   37   \n",
       "Nationality                            Turkey                Italy   \n",
       "Overall                                    79                   70   \n",
       "Potential                                  79                   70   \n",
       "Value                                   4e+06               240000   \n",
       "Wage                                    23000                 2000   \n",
       "Special                                  2047                 1882   \n",
       "Preferred Foot                           Left                Right   \n",
       "International Reputation                    2                    2   \n",
       "Weak Foot                                   4                    3   \n",
       "Skill Moves                                 4                    3   \n",
       "attack_Work_Rate                       Medium                  Low   \n",
       "defense_workrate                       Medium                 High   \n",
       "Position                                   CM                  LCM   \n",
       "Joined                    2015-07-09 00:00:00  2017-08-31 00:00:00   \n",
       "Contract Valid Until                     2019                 2019   \n",
       "Height                                     67                   71   \n",
       "Weight                                    159                  168   \n",
       "LS                                         67                   63   \n",
       "ST                                         67                   63   \n",
       "RS                                         67                   63   \n",
       "LW                                         72                   64   \n",
       "LF                                         72                   64   \n",
       "CF                                         72                   64   \n",
       "RF                                         72                   64   \n",
       "RW                                         72                   64   \n",
       "LAM                                        76                   65   \n",
       "CAM                                        76                   65   \n",
       "...                                       ...                  ...   \n",
       "Dribbling                                  78                   66   \n",
       "Curve                                      83                   58   \n",
       "FKAccuracy                                 80                   54   \n",
       "LongPassing                                87                   64   \n",
       "BallControl                                82                   67   \n",
       "Acceleration                               54                   65   \n",
       "SprintSpeed                                38                   62   \n",
       "Agility                                    68                   69   \n",
       "Reactions                                  73                   67   \n",
       "Balance                                    81                   63   \n",
       "ShotPower                                  77                   71   \n",
       "Jumping                                    72                   69   \n",
       "Stamina                                    61                   74   \n",
       "Strength                                   65                   67   \n",
       "LongShots                                  76                   65   \n",
       "Aggression                                 87                   75   \n",
       "Interceptions                              66                   70   \n",
       "Positioning                                63                   61   \n",
       "Vision                                     86                   65   \n",
       "Penalties                                  85                   65   \n",
       "Composure                                  80                   68   \n",
       "Marking                                    65                   74   \n",
       "StandingTackle                             67                   71   \n",
       "SlidingTackle                              60                   66   \n",
       "GKDiving                                    7                    5   \n",
       "GKHandling                                 11                   15   \n",
       "GKKicking                                   7                    7   \n",
       "GKPositioning                              14                    6   \n",
       "GKReflexes                                  8                   13   \n",
       "Release Clause                          €7.6M                €372K   \n",
       "\n",
       "                                            4  \n",
       "ID                                        657  \n",
       "Name                               D. Vaughan  \n",
       "Age                                        35  \n",
       "Nationality                             Wales  \n",
       "Overall                                    66  \n",
       "Potential                                  66  \n",
       "Value                                  150000  \n",
       "Wage                                     4000  \n",
       "Special                                  1781  \n",
       "Preferred Foot                           Left  \n",
       "International Reputation                    1  \n",
       "Weak Foot                                   3  \n",
       "Skill Moves                                 2  \n",
       "attack_Work_Rate                       Medium  \n",
       "defense_workrate                         High  \n",
       "Position                                  CDM  \n",
       "Joined                    2018-07-06 00:00:00  \n",
       "Contract Valid Until                     2019  \n",
       "Height                                     66  \n",
       "Weight                                    154  \n",
       "LS                                         59  \n",
       "ST                                         59  \n",
       "RS                                         59  \n",
       "LW                                         59  \n",
       "LF                                         60  \n",
       "CF                                         60  \n",
       "RF                                         60  \n",
       "RW                                         59  \n",
       "LAM                                        62  \n",
       "CAM                                        62  \n",
       "...                                       ...  \n",
       "Dribbling                                  62  \n",
       "Curve                                      68  \n",
       "FKAccuracy                                 67  \n",
       "LongPassing                                68  \n",
       "BallControl                                68  \n",
       "Acceleration                               33  \n",
       "SprintSpeed                                33  \n",
       "Agility                                    60  \n",
       "Reactions                                  67  \n",
       "Balance                                    91  \n",
       "ShotPower                                  70  \n",
       "Jumping                                    60  \n",
       "Stamina                                    50  \n",
       "Strength                                   58  \n",
       "LongShots                                  66  \n",
       "Aggression                                 74  \n",
       "Interceptions                              63  \n",
       "Positioning                                55  \n",
       "Vision                                     64  \n",
       "Penalties                                  66  \n",
       "Composure                                  82  \n",
       "Marking                                    59  \n",
       "StandingTackle                             66  \n",
       "SlidingTackle                              62  \n",
       "GKDiving                                    6  \n",
       "GKHandling                                  9  \n",
       "GKKicking                                  10  \n",
       "GKPositioning                               9  \n",
       "GKReflexes                                  7  \n",
       "Release Clause                          €263K  \n",
       "\n",
       "[81 rows x 5 columns]"
      ]
     },
     "execution_count": 5,
     "metadata": {},
     "output_type": "execute_result"
    }
   ],
   "source": [
    "fifa_data.head().T"
   ]
  },
  {
   "cell_type": "code",
   "execution_count": 5,
   "metadata": {},
   "outputs": [
    {
     "data": {
      "text/plain": [
       "(15918, 81)"
      ]
     },
     "execution_count": 5,
     "metadata": {},
     "output_type": "execute_result"
    }
   ],
   "source": [
    "fifa_data.shape# understanding the data\n"
   ]
  },
  {
   "cell_type": "code",
   "execution_count": 6,
   "metadata": {
    "scrolled": true
   },
   "outputs": [
    {
     "name": "stdout",
     "output_type": "stream",
     "text": [
      "<class 'pandas.core.frame.DataFrame'>\n",
      "RangeIndex: 15918 entries, 0 to 15917\n",
      "Data columns (total 81 columns):\n",
      "ID                          15918 non-null int64\n",
      "Name                        15918 non-null object\n",
      "Age                         15918 non-null int64\n",
      "Nationality                 15918 non-null object\n",
      "Overall                     15918 non-null int64\n",
      "Potential                   15918 non-null int64\n",
      "Value                       15918 non-null float64\n",
      "Wage                        15918 non-null int64\n",
      "Special                     15918 non-null int64\n",
      "Preferred Foot              15918 non-null object\n",
      "International Reputation    15918 non-null int64\n",
      "Weak Foot                   15918 non-null int64\n",
      "Skill Moves                 15918 non-null int64\n",
      "attack_Work_Rate            15918 non-null object\n",
      "defense_workrate            15918 non-null object\n",
      "Position                    15918 non-null object\n",
      "Joined                      14743 non-null datetime64[ns]\n",
      "Contract Valid Until        15918 non-null int64\n",
      "Height                      15918 non-null int64\n",
      "Weight                      15918 non-null int64\n",
      "LS                          15918 non-null int64\n",
      "ST                          15918 non-null int64\n",
      "RS                          15918 non-null int64\n",
      "LW                          15918 non-null int64\n",
      "LF                          15918 non-null int64\n",
      "CF                          15918 non-null int64\n",
      "RF                          15918 non-null int64\n",
      "RW                          15918 non-null int64\n",
      "LAM                         15918 non-null int64\n",
      "CAM                         15918 non-null int64\n",
      "RAM                         15918 non-null int64\n",
      "LM                          15918 non-null int64\n",
      "LCM                         15918 non-null int64\n",
      "CM                          15918 non-null int64\n",
      "RCM                         15918 non-null int64\n",
      "RM                          15918 non-null int64\n",
      "LWB                         15918 non-null int64\n",
      "LDM                         15918 non-null int64\n",
      "CDM                         15918 non-null int64\n",
      "RDM                         15918 non-null int64\n",
      "RWB                         15918 non-null int64\n",
      "LB                          15918 non-null int64\n",
      "LCB                         15918 non-null int64\n",
      "CB                          15918 non-null int64\n",
      "RCB                         15918 non-null int64\n",
      "RB                          15918 non-null int64\n",
      "Crossing                    15918 non-null int64\n",
      "Finishing                   15918 non-null int64\n",
      "HeadingAccuracy             15918 non-null int64\n",
      "ShortPassing                15918 non-null int64\n",
      "Volleys                     15918 non-null int64\n",
      "Dribbling                   15918 non-null int64\n",
      "Curve                       15918 non-null int64\n",
      "FKAccuracy                  15918 non-null int64\n",
      "LongPassing                 15918 non-null int64\n",
      "BallControl                 15918 non-null int64\n",
      "Acceleration                15918 non-null int64\n",
      "SprintSpeed                 15918 non-null int64\n",
      "Agility                     15918 non-null int64\n",
      "Reactions                   15918 non-null int64\n",
      "Balance                     15918 non-null int64\n",
      "ShotPower                   15918 non-null int64\n",
      "Jumping                     15918 non-null int64\n",
      "Stamina                     15918 non-null int64\n",
      "Strength                    15918 non-null int64\n",
      "LongShots                   15918 non-null int64\n",
      "Aggression                  15918 non-null int64\n",
      "Interceptions               15918 non-null int64\n",
      "Positioning                 15918 non-null int64\n",
      "Vision                      15918 non-null int64\n",
      "Penalties                   15918 non-null int64\n",
      "Composure                   15918 non-null int64\n",
      "Marking                     15918 non-null int64\n",
      "StandingTackle              15918 non-null int64\n",
      "SlidingTackle               15918 non-null int64\n",
      "GKDiving                    15918 non-null int64\n",
      "GKHandling                  15918 non-null int64\n",
      "GKKicking                   15918 non-null int64\n",
      "GKPositioning               15918 non-null int64\n",
      "GKReflexes                  15918 non-null int64\n",
      "Release Clause              14743 non-null object\n",
      "dtypes: datetime64[ns](1), float64(1), int64(72), object(7)\n",
      "memory usage: 9.8+ MB\n"
     ]
    },
    {
     "data": {
      "text/html": [
       "<div>\n",
       "<style scoped>\n",
       "    .dataframe tbody tr th:only-of-type {\n",
       "        vertical-align: middle;\n",
       "    }\n",
       "\n",
       "    .dataframe tbody tr th {\n",
       "        vertical-align: top;\n",
       "    }\n",
       "\n",
       "    .dataframe thead th {\n",
       "        text-align: right;\n",
       "    }\n",
       "</style>\n",
       "<table border=\"1\" class=\"dataframe\">\n",
       "  <thead>\n",
       "    <tr style=\"text-align: right;\">\n",
       "      <th></th>\n",
       "      <th>ID</th>\n",
       "      <th>Age</th>\n",
       "      <th>Overall</th>\n",
       "      <th>Potential</th>\n",
       "      <th>Value</th>\n",
       "      <th>Wage</th>\n",
       "      <th>Special</th>\n",
       "      <th>International Reputation</th>\n",
       "      <th>Weak Foot</th>\n",
       "      <th>Skill Moves</th>\n",
       "      <th>...</th>\n",
       "      <th>Penalties</th>\n",
       "      <th>Composure</th>\n",
       "      <th>Marking</th>\n",
       "      <th>StandingTackle</th>\n",
       "      <th>SlidingTackle</th>\n",
       "      <th>GKDiving</th>\n",
       "      <th>GKHandling</th>\n",
       "      <th>GKKicking</th>\n",
       "      <th>GKPositioning</th>\n",
       "      <th>GKReflexes</th>\n",
       "    </tr>\n",
       "  </thead>\n",
       "  <tbody>\n",
       "    <tr>\n",
       "      <th>count</th>\n",
       "      <td>15918.000000</td>\n",
       "      <td>15918.000000</td>\n",
       "      <td>15918.000000</td>\n",
       "      <td>15918.000000</td>\n",
       "      <td>1.591800e+04</td>\n",
       "      <td>15918.000000</td>\n",
       "      <td>15918.000000</td>\n",
       "      <td>15918.000000</td>\n",
       "      <td>15918.000000</td>\n",
       "      <td>15918.000000</td>\n",
       "      <td>...</td>\n",
       "      <td>15918.000000</td>\n",
       "      <td>15918.000000</td>\n",
       "      <td>15918.000000</td>\n",
       "      <td>15918.000000</td>\n",
       "      <td>15918.000000</td>\n",
       "      <td>15918.000000</td>\n",
       "      <td>15918.000000</td>\n",
       "      <td>15918.000000</td>\n",
       "      <td>15918.000000</td>\n",
       "      <td>15918.000000</td>\n",
       "    </tr>\n",
       "    <tr>\n",
       "      <th>mean</th>\n",
       "      <td>215067.419211</td>\n",
       "      <td>24.983603</td>\n",
       "      <td>66.446539</td>\n",
       "      <td>71.523935</td>\n",
       "      <td>2.554545e+06</td>\n",
       "      <td>10257.884156</td>\n",
       "      <td>1667.271517</td>\n",
       "      <td>1.115781</td>\n",
       "      <td>3.004083</td>\n",
       "      <td>2.533358</td>\n",
       "      <td>...</td>\n",
       "      <td>52.115907</td>\n",
       "      <td>60.342882</td>\n",
       "      <td>51.268061</td>\n",
       "      <td>51.879005</td>\n",
       "      <td>49.590652</td>\n",
       "      <td>10.498429</td>\n",
       "      <td>10.555723</td>\n",
       "      <td>10.548310</td>\n",
       "      <td>10.528144</td>\n",
       "      <td>10.508669</td>\n",
       "    </tr>\n",
       "    <tr>\n",
       "      <th>std</th>\n",
       "      <td>28517.385631</td>\n",
       "      <td>4.541327</td>\n",
       "      <td>6.809011</td>\n",
       "      <td>6.081923</td>\n",
       "      <td>5.740956e+06</td>\n",
       "      <td>22697.749026</td>\n",
       "      <td>196.676039</td>\n",
       "      <td>0.397392</td>\n",
       "      <td>0.637005</td>\n",
       "      <td>0.618239</td>\n",
       "      <td>...</td>\n",
       "      <td>12.498331</td>\n",
       "      <td>10.141434</td>\n",
       "      <td>17.199529</td>\n",
       "      <td>19.164464</td>\n",
       "      <td>19.165211</td>\n",
       "      <td>3.095164</td>\n",
       "      <td>3.076030</td>\n",
       "      <td>3.141491</td>\n",
       "      <td>3.079815</td>\n",
       "      <td>3.100668</td>\n",
       "    </tr>\n",
       "    <tr>\n",
       "      <th>min</th>\n",
       "      <td>16.000000</td>\n",
       "      <td>16.000000</td>\n",
       "      <td>46.000000</td>\n",
       "      <td>48.000000</td>\n",
       "      <td>1.000000e+04</td>\n",
       "      <td>1000.000000</td>\n",
       "      <td>1000.000000</td>\n",
       "      <td>1.000000</td>\n",
       "      <td>1.000000</td>\n",
       "      <td>2.000000</td>\n",
       "      <td>...</td>\n",
       "      <td>12.000000</td>\n",
       "      <td>29.000000</td>\n",
       "      <td>10.000000</td>\n",
       "      <td>10.000000</td>\n",
       "      <td>10.000000</td>\n",
       "      <td>1.000000</td>\n",
       "      <td>1.000000</td>\n",
       "      <td>1.000000</td>\n",
       "      <td>1.000000</td>\n",
       "      <td>1.000000</td>\n",
       "    </tr>\n",
       "    <tr>\n",
       "      <th>25%</th>\n",
       "      <td>200860.500000</td>\n",
       "      <td>21.000000</td>\n",
       "      <td>62.000000</td>\n",
       "      <td>67.000000</td>\n",
       "      <td>3.500000e+05</td>\n",
       "      <td>1000.000000</td>\n",
       "      <td>1526.000000</td>\n",
       "      <td>1.000000</td>\n",
       "      <td>3.000000</td>\n",
       "      <td>2.000000</td>\n",
       "      <td>...</td>\n",
       "      <td>42.000000</td>\n",
       "      <td>53.000000</td>\n",
       "      <td>37.000000</td>\n",
       "      <td>35.000000</td>\n",
       "      <td>32.000000</td>\n",
       "      <td>8.000000</td>\n",
       "      <td>8.000000</td>\n",
       "      <td>8.000000</td>\n",
       "      <td>8.000000</td>\n",
       "      <td>8.000000</td>\n",
       "    </tr>\n",
       "    <tr>\n",
       "      <th>50%</th>\n",
       "      <td>221975.000000</td>\n",
       "      <td>25.000000</td>\n",
       "      <td>66.000000</td>\n",
       "      <td>71.000000</td>\n",
       "      <td>7.500000e+05</td>\n",
       "      <td>3000.000000</td>\n",
       "      <td>1670.000000</td>\n",
       "      <td>1.000000</td>\n",
       "      <td>3.000000</td>\n",
       "      <td>2.000000</td>\n",
       "      <td>...</td>\n",
       "      <td>52.000000</td>\n",
       "      <td>61.000000</td>\n",
       "      <td>56.000000</td>\n",
       "      <td>59.000000</td>\n",
       "      <td>56.000000</td>\n",
       "      <td>10.000000</td>\n",
       "      <td>11.000000</td>\n",
       "      <td>11.000000</td>\n",
       "      <td>10.000000</td>\n",
       "      <td>10.000000</td>\n",
       "    </tr>\n",
       "    <tr>\n",
       "      <th>75%</th>\n",
       "      <td>236628.500000</td>\n",
       "      <td>28.000000</td>\n",
       "      <td>71.000000</td>\n",
       "      <td>75.000000</td>\n",
       "      <td>2.200000e+06</td>\n",
       "      <td>10000.000000</td>\n",
       "      <td>1806.000000</td>\n",
       "      <td>1.000000</td>\n",
       "      <td>3.000000</td>\n",
       "      <td>3.000000</td>\n",
       "      <td>...</td>\n",
       "      <td>61.000000</td>\n",
       "      <td>68.000000</td>\n",
       "      <td>65.000000</td>\n",
       "      <td>67.000000</td>\n",
       "      <td>65.000000</td>\n",
       "      <td>13.000000</td>\n",
       "      <td>13.000000</td>\n",
       "      <td>13.000000</td>\n",
       "      <td>13.000000</td>\n",
       "      <td>13.000000</td>\n",
       "    </tr>\n",
       "    <tr>\n",
       "      <th>max</th>\n",
       "      <td>246620.000000</td>\n",
       "      <td>39.000000</td>\n",
       "      <td>94.000000</td>\n",
       "      <td>95.000000</td>\n",
       "      <td>1.185000e+08</td>\n",
       "      <td>565000.000000</td>\n",
       "      <td>2346.000000</td>\n",
       "      <td>5.000000</td>\n",
       "      <td>5.000000</td>\n",
       "      <td>5.000000</td>\n",
       "      <td>...</td>\n",
       "      <td>92.000000</td>\n",
       "      <td>96.000000</td>\n",
       "      <td>94.000000</td>\n",
       "      <td>93.000000</td>\n",
       "      <td>91.000000</td>\n",
       "      <td>37.000000</td>\n",
       "      <td>33.000000</td>\n",
       "      <td>41.000000</td>\n",
       "      <td>33.000000</td>\n",
       "      <td>37.000000</td>\n",
       "    </tr>\n",
       "  </tbody>\n",
       "</table>\n",
       "<p>8 rows × 73 columns</p>\n",
       "</div>"
      ],
      "text/plain": [
       "                  ID           Age       Overall     Potential         Value  \\\n",
       "count   15918.000000  15918.000000  15918.000000  15918.000000  1.591800e+04   \n",
       "mean   215067.419211     24.983603     66.446539     71.523935  2.554545e+06   \n",
       "std     28517.385631      4.541327      6.809011      6.081923  5.740956e+06   \n",
       "min        16.000000     16.000000     46.000000     48.000000  1.000000e+04   \n",
       "25%    200860.500000     21.000000     62.000000     67.000000  3.500000e+05   \n",
       "50%    221975.000000     25.000000     66.000000     71.000000  7.500000e+05   \n",
       "75%    236628.500000     28.000000     71.000000     75.000000  2.200000e+06   \n",
       "max    246620.000000     39.000000     94.000000     95.000000  1.185000e+08   \n",
       "\n",
       "                Wage       Special  International Reputation     Weak Foot  \\\n",
       "count   15918.000000  15918.000000              15918.000000  15918.000000   \n",
       "mean    10257.884156   1667.271517                  1.115781      3.004083   \n",
       "std     22697.749026    196.676039                  0.397392      0.637005   \n",
       "min      1000.000000   1000.000000                  1.000000      1.000000   \n",
       "25%      1000.000000   1526.000000                  1.000000      3.000000   \n",
       "50%      3000.000000   1670.000000                  1.000000      3.000000   \n",
       "75%     10000.000000   1806.000000                  1.000000      3.000000   \n",
       "max    565000.000000   2346.000000                  5.000000      5.000000   \n",
       "\n",
       "        Skill Moves      ...          Penalties     Composure       Marking  \\\n",
       "count  15918.000000      ...       15918.000000  15918.000000  15918.000000   \n",
       "mean       2.533358      ...          52.115907     60.342882     51.268061   \n",
       "std        0.618239      ...          12.498331     10.141434     17.199529   \n",
       "min        2.000000      ...          12.000000     29.000000     10.000000   \n",
       "25%        2.000000      ...          42.000000     53.000000     37.000000   \n",
       "50%        2.000000      ...          52.000000     61.000000     56.000000   \n",
       "75%        3.000000      ...          61.000000     68.000000     65.000000   \n",
       "max        5.000000      ...          92.000000     96.000000     94.000000   \n",
       "\n",
       "       StandingTackle  SlidingTackle      GKDiving    GKHandling  \\\n",
       "count    15918.000000   15918.000000  15918.000000  15918.000000   \n",
       "mean        51.879005      49.590652     10.498429     10.555723   \n",
       "std         19.164464      19.165211      3.095164      3.076030   \n",
       "min         10.000000      10.000000      1.000000      1.000000   \n",
       "25%         35.000000      32.000000      8.000000      8.000000   \n",
       "50%         59.000000      56.000000     10.000000     11.000000   \n",
       "75%         67.000000      65.000000     13.000000     13.000000   \n",
       "max         93.000000      91.000000     37.000000     33.000000   \n",
       "\n",
       "          GKKicking  GKPositioning    GKReflexes  \n",
       "count  15918.000000   15918.000000  15918.000000  \n",
       "mean      10.548310      10.528144     10.508669  \n",
       "std        3.141491       3.079815      3.100668  \n",
       "min        1.000000       1.000000      1.000000  \n",
       "25%        8.000000       8.000000      8.000000  \n",
       "50%       11.000000      10.000000     10.000000  \n",
       "75%       13.000000      13.000000     13.000000  \n",
       "max       41.000000      33.000000     37.000000  \n",
       "\n",
       "[8 rows x 73 columns]"
      ]
     },
     "execution_count": 6,
     "metadata": {},
     "output_type": "execute_result"
    }
   ],
   "source": [
    "# understanding the data\n",
    "fifa_data.info()\n",
    "fifa_data.describe()"
   ]
  },
  {
   "cell_type": "code",
   "execution_count": 7,
   "metadata": {},
   "outputs": [
    {
     "data": {
      "text/plain": [
       "ID                             0\n",
       "Name                           0\n",
       "Age                            0\n",
       "Nationality                    0\n",
       "Overall                        0\n",
       "Potential                      0\n",
       "Value                          0\n",
       "Wage                           0\n",
       "Special                        0\n",
       "Preferred Foot                 0\n",
       "International Reputation       0\n",
       "Weak Foot                      0\n",
       "Skill Moves                    0\n",
       "attack_Work_Rate               0\n",
       "defense_workrate               0\n",
       "Position                       0\n",
       "Joined                      1175\n",
       "Contract Valid Until           0\n",
       "Height                         0\n",
       "Weight                         0\n",
       "LS                             0\n",
       "ST                             0\n",
       "RS                             0\n",
       "LW                             0\n",
       "LF                             0\n",
       "CF                             0\n",
       "RF                             0\n",
       "RW                             0\n",
       "LAM                            0\n",
       "CAM                            0\n",
       "                            ... \n",
       "Dribbling                      0\n",
       "Curve                          0\n",
       "FKAccuracy                     0\n",
       "LongPassing                    0\n",
       "BallControl                    0\n",
       "Acceleration                   0\n",
       "SprintSpeed                    0\n",
       "Agility                        0\n",
       "Reactions                      0\n",
       "Balance                        0\n",
       "ShotPower                      0\n",
       "Jumping                        0\n",
       "Stamina                        0\n",
       "Strength                       0\n",
       "LongShots                      0\n",
       "Aggression                     0\n",
       "Interceptions                  0\n",
       "Positioning                    0\n",
       "Vision                         0\n",
       "Penalties                      0\n",
       "Composure                      0\n",
       "Marking                        0\n",
       "StandingTackle                 0\n",
       "SlidingTackle                  0\n",
       "GKDiving                       0\n",
       "GKHandling                     0\n",
       "GKKicking                      0\n",
       "GKPositioning                  0\n",
       "GKReflexes                     0\n",
       "Release Clause              1175\n",
       "Length: 81, dtype: int64"
      ]
     },
     "execution_count": 7,
     "metadata": {},
     "output_type": "execute_result"
    }
   ],
   "source": [
    "#Checking for null values\n",
    "fifa_data.isnull().sum().T"
   ]
  },
  {
   "cell_type": "code",
   "execution_count": 8,
   "metadata": {},
   "outputs": [],
   "source": [
    "#dropping NA\n",
    "fifa_data.dropna(axis=1,inplace=True)"
   ]
  },
  {
   "cell_type": "code",
   "execution_count": 9,
   "metadata": {},
   "outputs": [
    {
     "data": {
      "text/plain": [
       "<matplotlib.axes._subplots.AxesSubplot at 0x2cedf869b70>"
      ]
     },
     "execution_count": 9,
     "metadata": {},
     "output_type": "execute_result"
    },
    {
     "data": {
      "image/png": "[encoded data removed]",
      "text/plain": [
       "<Figure size 432x288 with 1 Axes>"
      ]
     },
     "metadata": {
      "needs_background": "light"
     },
     "output_type": "display_data"
    }
   ],
   "source": [
    "fifa_data['Nationality'].value_counts().head(10).plot.bar(color = 'purple')"
   ]
  },
  {
   "cell_type": "code",
   "execution_count": 10,
   "metadata": {},
   "outputs": [
    {
     "name": "stdout",
     "output_type": "stream",
     "text": [
      "Best Crossing : 27\n",
      "Best Finishing : 31\n",
      "Best HeadingAccuracy : 35\n",
      "Best ShortPassing : 32\n",
      "Best Volleys : 30\n",
      "Best Dribbling : 31\n",
      "Best Curve : 34\n",
      "Best FKAccuracy : 31\n",
      "Best LongPassing : 28\n",
      "Best BallControl : 31\n",
      "Best Acceleration : 27\n",
      "Best SprintSpeed : 22\n",
      "Best Agility : 26\n",
      "Best Reactions : 33\n",
      "Best Balance : 25\n",
      "Best ShotPower : 33\n",
      "Best Jumping : 33\n",
      "Best Stamina : 27\n",
      "Best Strength : 36\n",
      "Best LongShots : 31\n",
      "Best Aggression : 23\n",
      "Best Interceptions : 29\n",
      "Best Positioning : 33\n",
      "Best Vision : 31\n",
      "Best Penalties : 27\n",
      "Best Composure : 31\n",
      "Best Marking : 37\n",
      "Best StandingTackle : 33\n",
      "Best SlidingTackle : 32\n",
      "Best GKDiving : 31\n",
      "Best GKHandling : 35\n",
      "Best GKKicking : 29\n",
      "Best GKPositioning : 31\n",
      "Best GKReflexes : 31\n"
     ]
    }
   ],
   "source": [
    "pr_cols=['Crossing', 'Finishing', 'HeadingAccuracy', 'ShortPassing', 'Volleys',\n",
    "       'Dribbling', 'Curve', 'FKAccuracy', 'LongPassing', 'BallControl',\n",
    "       'Acceleration', 'SprintSpeed', 'Agility', 'Reactions', 'Balance',\n",
    "       'ShotPower', 'Jumping', 'Stamina', 'Strength', 'LongShots',\n",
    "       'Aggression', 'Interceptions', 'Positioning', 'Vision', 'Penalties',\n",
    "       'Composure', 'Marking', 'StandingTackle', 'SlidingTackle', 'GKDiving',\n",
    "       'GKHandling', 'GKKicking', 'GKPositioning', 'GKReflexes']\n",
    "i=0\n",
    "while i < len(pr_cols):\n",
    "    print('Best {0} : {1}'.format(pr_cols[i],fifa_data.loc[fifa_data[pr_cols[i]].idxmax()][2]))\n",
    "    i += 1"
   ]
  },
  {
   "cell_type": "code",
   "execution_count": 11,
   "metadata": {},
   "outputs": [
    {
     "data": {
      "text/plain": [
       "Right    11964\n",
       "Left      3954\n",
       "Name: Preferred Foot, dtype: int64"
      ]
     },
     "execution_count": 11,
     "metadata": {},
     "output_type": "execute_result"
    }
   ],
   "source": [
    "fifa_data['Preferred Foot'].value_counts()"
   ]
  },
  {
   "cell_type": "code",
   "execution_count": 12,
   "metadata": {},
   "outputs": [
    {
     "data": {
      "text/plain": [
       "<matplotlib.axes._subplots.AxesSubplot at 0x2cee17e1908>"
      ]
     },
     "execution_count": 12,
     "metadata": {},
     "output_type": "execute_result"
    },
    {
     "data": {
      "image/png": "[encoded data removed]",
      "text/plain": [
       "<Figure size 432x288 with 1 Axes>"
      ]
     },
     "metadata": {
      "needs_background": "light"
     },
     "output_type": "display_data"
    }
   ],
   "source": [
    "#distribution of variable 'deposit'\n",
    "fifa_data['Preferred Foot'].value_counts().head(50).plot.bar(color = 'purple')"
   ]
  },
  {
   "cell_type": "code",
   "execution_count": 13,
   "metadata": {},
   "outputs": [
    {
     "data": {
      "text/plain": [
       "Medium    10190\n",
       "High       4822\n",
       "Low         906\n",
       "Name: attack_Work_Rate, dtype: int64"
      ]
     },
     "execution_count": 13,
     "metadata": {},
     "output_type": "execute_result"
    }
   ],
   "source": [
    "fifa_data['attack_Work_Rate'].value_counts()"
   ]
  },
  {
   "cell_type": "code",
   "execution_count": 14,
   "metadata": {},
   "outputs": [
    {
     "data": {
      "text/plain": [
       "<matplotlib.axes._subplots.AxesSubplot at 0x2cedf899eb8>"
      ]
     },
     "execution_count": 14,
     "metadata": {},
     "output_type": "execute_result"
    },
    {
     "data": {
      "image/png": "[encoded data removed]",
      "text/plain": [
       "<Figure size 432x288 with 1 Axes>"
      ]
     },
     "metadata": {
      "needs_background": "light"
     },
     "output_type": "display_data"
    }
   ],
   "source": [
    "fifa_data['attack_Work_Rate'].value_counts().head(50).plot.bar(color = 'purple')"
   ]
  },
  {
   "cell_type": "code",
   "execution_count": 15,
   "metadata": {},
   "outputs": [
    {
     "data": {
      "text/plain": [
       " Medium    11258\n",
       " High       3101\n",
       " Low        1559\n",
       "Name: defense_workrate, dtype: int64"
      ]
     },
     "execution_count": 15,
     "metadata": {},
     "output_type": "execute_result"
    }
   ],
   "source": [
    "fifa_data['defense_workrate'].value_counts()"
   ]
  },
  {
   "cell_type": "code",
   "execution_count": 16,
   "metadata": {},
   "outputs": [
    {
     "data": {
      "text/plain": [
       "<matplotlib.axes._subplots.AxesSubplot at 0x2cee15fbd30>"
      ]
     },
     "execution_count": 16,
     "metadata": {},
     "output_type": "execute_result"
    },
    {
     "data": {
      "image/png": "[encoded data removed]",
      "text/plain": [
       "<Figure size 432x288 with 1 Axes>"
      ]
     },
     "metadata": {
      "needs_background": "light"
     },
     "output_type": "display_data"
    }
   ],
   "source": [
    "fifa_data['defense_workrate'].value_counts().head(50).plot.bar(color = 'purple')"
   ]
  },
  {
   "cell_type": "code",
   "execution_count": 17,
   "metadata": {},
   "outputs": [
    {
     "data": {
      "text/plain": [
       "<matplotlib.axes._subplots.AxesSubplot at 0x2cee3a7ad30>"
      ]
     },
     "execution_count": 17,
     "metadata": {},
     "output_type": "execute_result"
    },
    {
     "data": {
      "image/png": "[encoded data removed]",
      "text/plain": [
       "<Figure size 432x288 with 1 Axes>"
      ]
     },
     "metadata": {
      "needs_background": "light"
     },
     "output_type": "display_data"
    }
   ],
   "source": [
    "fifa_data['Position'].value_counts().head(50).plot.bar(color = 'purple')"
   ]
  },
  {
   "cell_type": "code",
   "execution_count": 18,
   "metadata": {},
   "outputs": [
    {
     "data": {
      "text/plain": [
       "<Figure size 864x576 with 0 Axes>"
      ]
     },
     "execution_count": 18,
     "metadata": {},
     "output_type": "execute_result"
    },
    {
     "data": {
      "text/plain": [
       "Text(0.5,0,\"Player's age\")"
      ]
     },
     "execution_count": 18,
     "metadata": {},
     "output_type": "execute_result"
    },
    {
     "data": {
      "text/plain": [
       "Text(0,0.5,'Number of players')"
      ]
     },
     "execution_count": 18,
     "metadata": {},
     "output_type": "execute_result"
    },
    {
     "data": {
      "text/plain": [
       "Text(0.5,1,'Histogram of players age')"
      ]
     },
     "execution_count": 18,
     "metadata": {},
     "output_type": "execute_result"
    },
    {
     "data": {
      "image/png": "[encoded data removed]",
      "text/plain": [
       "<Figure size 864x576 with 1 Axes>"
      ]
     },
     "metadata": {},
     "output_type": "display_data"
    }
   ],
   "source": [
    "sns.set(style = \"dark\", palette = \"colorblind\", color_codes = True)\n",
    "x = fifa_data.Age\n",
    "plt.figure(figsize = (12,8))\n",
    "ax = sns.distplot(x, bins = 58, kde = False, color = 'g')\n",
    "ax.set_xlabel(xlabel = \"Player's age\", fontsize = 16)\n",
    "ax.set_ylabel(ylabel = 'Number of players', fontsize = 16)\n",
    "ax.set_title(label = 'Histogram of players age', fontsize = 20)\n",
    "plt.show()"
   ]
  },
  {
   "cell_type": "code",
   "execution_count": 19,
   "metadata": {},
   "outputs": [],
   "source": [
    "#removing the columns that are not suitable for the model.\n",
    "fifa_data.drop(['ID','Name','Nationality','Contract Valid Until'],axis=1,inplace=True)"
   ]
  },
  {
   "cell_type": "code",
   "execution_count": 20,
   "metadata": {},
   "outputs": [],
   "source": [
    "\n",
    "fifa_data = pd.get_dummies(fifa_data,\n",
    "                             columns=['Preferred Foot'], prefix=['Preferred Foot'],drop_first = True)\n",
    "\n",
    "fifa_data = pd.get_dummies(fifa_data,\n",
    "                             columns=['attack_Work_Rate'], prefix=['attack_Work_Rate'],drop_first = True)\n",
    "\n",
    "fifa_data = pd.get_dummies(fifa_data,\n",
    "                             columns=['defense_workrate'], prefix=['defense_workrate'],drop_first = True)\n",
    "\n",
    "fifa_data = pd.get_dummies(fifa_data,\n",
    "                             columns=['Position'], prefix=['Position'],drop_first = True)"
   ]
  },
  {
   "cell_type": "code",
   "execution_count": 21,
   "metadata": {},
   "outputs": [],
   "source": [
    "from sklearn.preprocessing import MinMaxScaler\n",
    "from sklearn.model_selection import train_test_split\n",
    "from sklearn.linear_model import LogisticRegression\n",
    "# from sklearn.grid_search import GridSearchCV\n",
    "from  sklearn.model_selection import GridSearchCV\n",
    "from sklearn.metrics import confusion_matrix"
   ]
  },
  {
   "cell_type": "code",
   "execution_count": 22,
   "metadata": {},
   "outputs": [
    {
     "data": {
      "text/plain": [
       "(15918, 101)"
      ]
     },
     "execution_count": 22,
     "metadata": {},
     "output_type": "execute_result"
    }
   ],
   "source": [
    "fifa_data.shape"
   ]
  },
  {
   "cell_type": "code",
   "execution_count": 23,
   "metadata": {},
   "outputs": [],
   "source": [
    "X = fifa_data.drop('Wage', axis = 1)\n",
    "y = fifa_data['Wage']"
   ]
  },
  {
   "cell_type": "code",
   "execution_count": 24,
   "metadata": {},
   "outputs": [],
   "source": [
    "# split dataset\n",
    "from sklearn.model_selection import train_test_split\n",
    "\n",
    "X_train_org, X_test_org, y_train, y_test = train_test_split(X, y, random_state = 0)"
   ]
  },
  {
   "cell_type": "code",
   "execution_count": 25,
   "metadata": {
    "scrolled": true
   },
   "outputs": [
    {
     "name": "stdout",
     "output_type": "stream",
     "text": [
      "(11938, 100) (11938,)\n",
      "(3980, 100) (3980,)\n"
     ]
    }
   ],
   "source": [
    "print (X_train_org.shape, y_train.shape)#scale dataset\n",
    "\n",
    "print (X_test_org.shape, y_test.shape)"
   ]
  },
  {
   "cell_type": "code",
   "execution_count": 26,
   "metadata": {},
   "outputs": [],
   "source": [
    "#scale dataset\n",
    "from sklearn.preprocessing import StandardScaler\n",
    "\n",
    "scaler = StandardScaler()\n",
    "X_train = scaler.fit_transform(X_train_org)\n",
    "X_test = scaler.fit_transform(X_test_org)"
   ]
  },
  {
   "cell_type": "code",
   "execution_count": 27,
   "metadata": {
    "scrolled": true
   },
   "outputs": [
    {
     "data": {
      "text/plain": [
       "LinearRegression(copy_X=True, fit_intercept=True, n_jobs=1, normalize=False)"
      ]
     },
     "execution_count": 27,
     "metadata": {},
     "output_type": "execute_result"
    },
    {
     "name": "stdout",
     "output_type": "stream",
     "text": [
      "0.7596007285622873\n",
      "0.7345526050527698\n"
     ]
    }
   ],
   "source": [
    "from sklearn.linear_model import LinearRegression\n",
    "\n",
    "lreg = LinearRegression()\n",
    "lreg.fit(X_train, y_train)\n",
    "print(lreg.score(X_train, y_train))\n",
    "print(lreg.score(X_test, y_test))"
   ]
  },
  {
   "cell_type": "code",
   "execution_count": 28,
   "metadata": {
    "scrolled": true
   },
   "outputs": [
    {
     "data": {
      "text/plain": [
       "Ridge(alpha=0.01, copy_X=True, fit_intercept=True, max_iter=None,\n",
       "   normalize=False, random_state=None, solver='auto', tol=0.001)"
      ]
     },
     "execution_count": 28,
     "metadata": {},
     "output_type": "execute_result"
    },
    {
     "data": {
      "text/plain": [
       "Ridge(alpha=0.1, copy_X=True, fit_intercept=True, max_iter=None,\n",
       "   normalize=False, random_state=None, solver='auto', tol=0.001)"
      ]
     },
     "execution_count": 28,
     "metadata": {},
     "output_type": "execute_result"
    },
    {
     "data": {
      "text/plain": [
       "Ridge(alpha=1, copy_X=True, fit_intercept=True, max_iter=None,\n",
       "   normalize=False, random_state=None, solver='auto', tol=0.001)"
      ]
     },
     "execution_count": 28,
     "metadata": {},
     "output_type": "execute_result"
    },
    {
     "data": {
      "text/plain": [
       "Ridge(alpha=10, copy_X=True, fit_intercept=True, max_iter=None,\n",
       "   normalize=False, random_state=None, solver='auto', tol=0.001)"
      ]
     },
     "execution_count": 28,
     "metadata": {},
     "output_type": "execute_result"
    },
    {
     "data": {
      "text/plain": [
       "Ridge(alpha=100, copy_X=True, fit_intercept=True, max_iter=None,\n",
       "   normalize=False, random_state=None, solver='auto', tol=0.001)"
      ]
     },
     "execution_count": 28,
     "metadata": {},
     "output_type": "execute_result"
    },
    {
     "name": "stdout",
     "output_type": "stream",
     "text": [
      "[0.7682320275601345, 0.7682320108250109, 0.7682310399827721, 0.7681953213515822, 0.7678942626379485]\n",
      "[0.7408859450505989, 0.7408871596708925, 0.7409139080875417, 0.7411912263904559, 0.7419981985982792]\n"
     ]
    }
   ],
   "source": [
    "from  sklearn.linear_model import Ridge\n",
    "\n",
    "x_range = [0.01, 0.1, 1, 10, 100]\n",
    "train_score_list = []\n",
    "test_score_list = []\n",
    "\n",
    "for alpha in x_range: \n",
    "    ridge = Ridge(alpha)\n",
    "    ridge.fit(X_train,y_train)\n",
    "    train_score_list.append(ridge.score(X_train,y_train))\n",
    "    test_score_list.append(ridge.score(X_test, y_test))\n",
    "    \n",
    "print(train_score_list)\n",
    "print(test_score_list)"
   ]
  },
  {
   "cell_type": "code",
   "execution_count": 29,
   "metadata": {},
   "outputs": [
    {
     "name": "stderr",
     "output_type": "stream",
     "text": [
      "C:\\Users\\gkart\\Anaconda3\\lib\\site-packages\\sklearn\\linear_model\\coordinate_descent.py:491: ConvergenceWarning: Objective did not converge. You might want to increase the number of iterations. Fitting data with very small alpha may cause precision problems.\n",
      "  ConvergenceWarning)\n"
     ]
    },
    {
     "data": {
      "text/plain": [
       "Lasso(alpha=0.01, copy_X=True, fit_intercept=True, max_iter=1000,\n",
       "   normalize=False, positive=False, precompute=False, random_state=None,\n",
       "   selection='cyclic', tol=0.0001, warm_start=False)"
      ]
     },
     "execution_count": 29,
     "metadata": {},
     "output_type": "execute_result"
    },
    {
     "name": "stderr",
     "output_type": "stream",
     "text": [
      "C:\\Users\\gkart\\Anaconda3\\lib\\site-packages\\sklearn\\linear_model\\coordinate_descent.py:491: ConvergenceWarning: Objective did not converge. You might want to increase the number of iterations. Fitting data with very small alpha may cause precision problems.\n",
      "  ConvergenceWarning)\n"
     ]
    },
    {
     "data": {
      "text/plain": [
       "Lasso(alpha=0.1, copy_X=True, fit_intercept=True, max_iter=1000,\n",
       "   normalize=False, positive=False, precompute=False, random_state=None,\n",
       "   selection='cyclic', tol=0.0001, warm_start=False)"
      ]
     },
     "execution_count": 29,
     "metadata": {},
     "output_type": "execute_result"
    },
    {
     "name": "stderr",
     "output_type": "stream",
     "text": [
      "C:\\Users\\gkart\\Anaconda3\\lib\\site-packages\\sklearn\\linear_model\\coordinate_descent.py:491: ConvergenceWarning: Objective did not converge. You might want to increase the number of iterations. Fitting data with very small alpha may cause precision problems.\n",
      "  ConvergenceWarning)\n"
     ]
    },
    {
     "data": {
      "text/plain": [
       "Lasso(alpha=1, copy_X=True, fit_intercept=True, max_iter=1000,\n",
       "   normalize=False, positive=False, precompute=False, random_state=None,\n",
       "   selection='cyclic', tol=0.0001, warm_start=False)"
      ]
     },
     "execution_count": 29,
     "metadata": {},
     "output_type": "execute_result"
    },
    {
     "data": {
      "text/plain": [
       "Lasso(alpha=10, copy_X=True, fit_intercept=True, max_iter=1000,\n",
       "   normalize=False, positive=False, precompute=False, random_state=None,\n",
       "   selection='cyclic', tol=0.0001, warm_start=False)"
      ]
     },
     "execution_count": 29,
     "metadata": {},
     "output_type": "execute_result"
    },
    {
     "name": "stdout",
     "output_type": "stream",
     "text": [
      "[0.7681308538297837, 0.7681309941313786, 0.768123672450623, 0.7678418607657854]\n",
      "[0.7411162126214725, 0.7411279407447806, 0.7412620405765824, 0.7418344506169325]\n"
     ]
    }
   ],
   "source": [
    "from sklearn.linear_model import Lasso\n",
    "x_range = [0.01,0.1,1,10 ]\n",
    "train_score_list = []\n",
    "test_score_list = []\n",
    "\n",
    "for alpha in x_range: \n",
    "    lasso = Lasso(alpha)\n",
    "    lasso.fit(X_train,y_train)\n",
    "    train_score_list.append(lasso.score(X_train,y_train))\n",
    "    test_score_list.append(lasso.score(X_test, y_test))\n",
    "    \n",
    "print(train_score_list)\n",
    "print(test_score_list)\n"
   ]
  },
  {
   "cell_type": "code",
   "execution_count": 30,
   "metadata": {
    "scrolled": false
   },
   "outputs": [
    {
     "data": {
      "text/plain": [
       "KNeighborsRegressor(algorithm='auto', leaf_size=30, metric='minkowski',\n",
       "          metric_params=None, n_jobs=1, n_neighbors=2, p=2,\n",
       "          weights='uniform')"
      ]
     },
     "execution_count": 30,
     "metadata": {},
     "output_type": "execute_result"
    },
    {
     "data": {
      "text/plain": [
       "KNeighborsRegressor(algorithm='auto', leaf_size=30, metric='minkowski',\n",
       "          metric_params=None, n_jobs=1, n_neighbors=3, p=2,\n",
       "          weights='uniform')"
      ]
     },
     "execution_count": 30,
     "metadata": {},
     "output_type": "execute_result"
    },
    {
     "data": {
      "text/plain": [
       "KNeighborsRegressor(algorithm='auto', leaf_size=30, metric='minkowski',\n",
       "          metric_params=None, n_jobs=1, n_neighbors=4, p=2,\n",
       "          weights='uniform')"
      ]
     },
     "execution_count": 30,
     "metadata": {},
     "output_type": "execute_result"
    },
    {
     "name": "stdout",
     "output_type": "stream",
     "text": [
      "[0.870966176040375, 0.8219894851510016, 0.7837061744674519]\n",
      "[0.6092869586250853, 0.636743558690217, 0.6561972571506338]\n"
     ]
    }
   ],
   "source": [
    "from sklearn.neighbors import KNeighborsRegressor\n",
    "\n",
    "train_score_array = []\n",
    "test_score_array = []\n",
    "\n",
    "for k in range(2,5):\n",
    "    knn = KNeighborsRegressor(k)\n",
    "    knn.fit(X_train, y_train)\n",
    "    train_score_array.append(knn.score(X_train, y_train))\n",
    "    test_score_array.append(knn.score(X_test, y_test))\n",
    "print(train_score_array)\n",
    "print(test_score_array)"
   ]
  },
  {
   "cell_type": "code",
   "execution_count": 31,
   "metadata": {},
   "outputs": [
    {
     "data": {
      "text/plain": [
       "[<matplotlib.lines.Line2D at 0x2cee4f04dd8>]"
      ]
     },
     "execution_count": 31,
     "metadata": {},
     "output_type": "execute_result"
    },
    {
     "data": {
      "text/plain": [
       "[<matplotlib.lines.Line2D at 0x2cee4c42cc0>]"
      ]
     },
     "execution_count": 31,
     "metadata": {},
     "output_type": "execute_result"
    },
    {
     "data": {
      "text/plain": [
       "Text(0.5,0,'k')"
      ]
     },
     "execution_count": 31,
     "metadata": {},
     "output_type": "execute_result"
    },
    {
     "data": {
      "text/plain": [
       "Text(0,0.5,'Accuracy')"
      ]
     },
     "execution_count": 31,
     "metadata": {},
     "output_type": "execute_result"
    },
    {
     "data": {
      "text/plain": [
       "<matplotlib.legend.Legend at 0x2cee4f0d9e8>"
      ]
     },
     "execution_count": 31,
     "metadata": {},
     "output_type": "execute_result"
    },
    {
     "data": {
      "image/png": "[encoded data removed]",
      "text/plain": [
       "<Figure size 432x288 with 1 Axes>"
      ]
     },
     "metadata": {
      "needs_background": "light"
     },
     "output_type": "display_data"
    }
   ],
   "source": [
    "x_axis = range(2,5)\n",
    "%matplotlib inline\n",
    "plt.plot(x_axis, train_score_array, label = 'Train Score', c = 'g')\n",
    "plt.plot(x_axis, test_score_array, label = 'Test Score', c='b')\n",
    "plt.xlabel('k')\n",
    "plt.ylabel('Accuracy')\n",
    "plt.legend()"
   ]
  },
  {
   "cell_type": "markdown",
   "metadata": {},
   "source": [
    "#### The above chart explains the accuracy scores on both the Training data and Test data for various values of K."
   ]
  },
  {
   "cell_type": "code",
   "execution_count": 33,
   "metadata": {},
   "outputs": [],
   "source": [
    "### Decsion Tree regressor\n",
    "# import the regressor \n",
    "from sklearn.tree import DecisionTreeRegressor\n",
    "regressor = DecisionTreeRegressor(random_state = 0)  \n",
    "  \n",
    "# fit the regressor with X and Y data \n",
    "dreg=regressor.fit(X_train, y_train) \n",
    "\n"
   ]
  },
  {
   "cell_type": "code",
   "execution_count": 34,
   "metadata": {},
   "outputs": [
    {
     "name": "stderr",
     "output_type": "stream",
     "text": [
      "C:\\Users\\gkart\\Anaconda3\\lib\\site-packages\\sklearn\\ensemble\\weight_boosting.py:29: DeprecationWarning: numpy.core.umath_tests is an internal NumPy module and should not be imported. It will be removed in a future NumPy release.\n",
      "  from numpy.core.umath_tests import inner1d\n"
     ]
    },
    {
     "data": {
      "text/plain": [
       "RandomForestRegressor(bootstrap=True, criterion='mse', max_depth=None,\n",
       "           max_features='auto', max_leaf_nodes=None,\n",
       "           min_impurity_decrease=0.0, min_impurity_split=None,\n",
       "           min_samples_leaf=1, min_samples_split=2,\n",
       "           min_weight_fraction_leaf=0.0, n_estimators=1000, n_jobs=1,\n",
       "           oob_score=False, random_state=42, verbose=0, warm_start=False)"
      ]
     },
     "execution_count": 34,
     "metadata": {},
     "output_type": "execute_result"
    },
    {
     "name": "stdout",
     "output_type": "stream",
     "text": [
      "0.970149058791992\n",
      "0.7734753298298046\n"
     ]
    }
   ],
   "source": [
    "\n",
    "# Import the model we are using\n",
    "from sklearn.ensemble import RandomForestRegressor\n",
    "# Instantiate model with 1000 decision trees\n",
    "rf = RandomForestRegressor(n_estimators = 1000, random_state = 42)\n",
    "# Train the model on training data\n",
    "rf.fit(X_train, y_train)\n",
    "print(rf.score(X_train, y_train))\n",
    "print(rf.score(X_test,y_test))"
   ]
  },
  {
   "cell_type": "code",
   "execution_count": 6,
   "metadata": {},
   "outputs": [
    {
     "data": {
      "text/html": [
       "<div>\n",
       "<style scoped>\n",
       "    .dataframe tbody tr th:only-of-type {\n",
       "        vertical-align: middle;\n",
       "    }\n",
       "\n",
       "    .dataframe tbody tr th {\n",
       "        vertical-align: top;\n",
       "    }\n",
       "\n",
       "    .dataframe thead th {\n",
       "        text-align: right;\n",
       "    }\n",
       "</style>\n",
       "<table border=\"1\" class=\"dataframe\">\n",
       "  <thead>\n",
       "    <tr style=\"text-align: right;\">\n",
       "      <th></th>\n",
       "      <th>ID</th>\n",
       "      <th>Name</th>\n",
       "      <th>Age</th>\n",
       "      <th>Nationality</th>\n",
       "      <th>Overall</th>\n",
       "      <th>Potential</th>\n",
       "      <th>Value</th>\n",
       "      <th>Wage</th>\n",
       "      <th>Special</th>\n",
       "      <th>Preferred Foot</th>\n",
       "      <th>...</th>\n",
       "      <th>Composure</th>\n",
       "      <th>Marking</th>\n",
       "      <th>StandingTackle</th>\n",
       "      <th>SlidingTackle</th>\n",
       "      <th>GKDiving</th>\n",
       "      <th>GKHandling</th>\n",
       "      <th>GKKicking</th>\n",
       "      <th>GKPositioning</th>\n",
       "      <th>GKReflexes</th>\n",
       "      <th>Release Clause</th>\n",
       "    </tr>\n",
       "  </thead>\n",
       "  <tbody>\n",
       "    <tr>\n",
       "      <th>0</th>\n",
       "      <td>16</td>\n",
       "      <td>Luis García</td>\n",
       "      <td>37</td>\n",
       "      <td>Spain</td>\n",
       "      <td>71</td>\n",
       "      <td>71</td>\n",
       "      <td>750000</td>\n",
       "      <td>6000</td>\n",
       "      <td>1906</td>\n",
       "      <td>Right</td>\n",
       "      <td>...</td>\n",
       "      <td>79</td>\n",
       "      <td>70</td>\n",
       "      <td>43</td>\n",
       "      <td>40</td>\n",
       "      <td>9</td>\n",
       "      <td>12</td>\n",
       "      <td>13</td>\n",
       "      <td>11</td>\n",
       "      <td>11</td>\n",
       "      <td>€1.1M</td>\n",
       "    </tr>\n",
       "    <tr>\n",
       "      <th>1</th>\n",
       "      <td>41</td>\n",
       "      <td>Iniesta</td>\n",
       "      <td>34</td>\n",
       "      <td>Spain</td>\n",
       "      <td>86</td>\n",
       "      <td>86</td>\n",
       "      <td>21500000</td>\n",
       "      <td>21000</td>\n",
       "      <td>2058</td>\n",
       "      <td>Right</td>\n",
       "      <td>...</td>\n",
       "      <td>89</td>\n",
       "      <td>67</td>\n",
       "      <td>57</td>\n",
       "      <td>56</td>\n",
       "      <td>6</td>\n",
       "      <td>13</td>\n",
       "      <td>6</td>\n",
       "      <td>13</td>\n",
       "      <td>7</td>\n",
       "      <td>€26.9M</td>\n",
       "    </tr>\n",
       "    <tr>\n",
       "      <th>2</th>\n",
       "      <td>80</td>\n",
       "      <td>E. Belözoğlu</td>\n",
       "      <td>37</td>\n",
       "      <td>Turkey</td>\n",
       "      <td>79</td>\n",
       "      <td>79</td>\n",
       "      <td>4000000</td>\n",
       "      <td>23000</td>\n",
       "      <td>2047</td>\n",
       "      <td>Left</td>\n",
       "      <td>...</td>\n",
       "      <td>80</td>\n",
       "      <td>65</td>\n",
       "      <td>67</td>\n",
       "      <td>60</td>\n",
       "      <td>7</td>\n",
       "      <td>11</td>\n",
       "      <td>7</td>\n",
       "      <td>14</td>\n",
       "      <td>8</td>\n",
       "      <td>€7.6M</td>\n",
       "    </tr>\n",
       "    <tr>\n",
       "      <th>3</th>\n",
       "      <td>164</td>\n",
       "      <td>G. Pinzi</td>\n",
       "      <td>37</td>\n",
       "      <td>Italy</td>\n",
       "      <td>70</td>\n",
       "      <td>70</td>\n",
       "      <td>240000</td>\n",
       "      <td>2000</td>\n",
       "      <td>1882</td>\n",
       "      <td>Right</td>\n",
       "      <td>...</td>\n",
       "      <td>68</td>\n",
       "      <td>74</td>\n",
       "      <td>71</td>\n",
       "      <td>66</td>\n",
       "      <td>5</td>\n",
       "      <td>15</td>\n",
       "      <td>7</td>\n",
       "      <td>6</td>\n",
       "      <td>13</td>\n",
       "      <td>€372K</td>\n",
       "    </tr>\n",
       "    <tr>\n",
       "      <th>4</th>\n",
       "      <td>657</td>\n",
       "      <td>D. Vaughan</td>\n",
       "      <td>35</td>\n",
       "      <td>Wales</td>\n",
       "      <td>66</td>\n",
       "      <td>66</td>\n",
       "      <td>150000</td>\n",
       "      <td>4000</td>\n",
       "      <td>1781</td>\n",
       "      <td>Left</td>\n",
       "      <td>...</td>\n",
       "      <td>82</td>\n",
       "      <td>59</td>\n",
       "      <td>66</td>\n",
       "      <td>62</td>\n",
       "      <td>6</td>\n",
       "      <td>9</td>\n",
       "      <td>10</td>\n",
       "      <td>9</td>\n",
       "      <td>7</td>\n",
       "      <td>€263K</td>\n",
       "    </tr>\n",
       "  </tbody>\n",
       "</table>\n",
       "<p>5 rows × 81 columns</p>\n",
       "</div>"
      ],
      "text/plain": [
       "    ID          Name  Age Nationality  Overall  Potential     Value   Wage  \\\n",
       "0   16   Luis García   37       Spain       71         71    750000   6000   \n",
       "1   41       Iniesta   34       Spain       86         86  21500000  21000   \n",
       "2   80  E. Belözoğlu   37      Turkey       79         79   4000000  23000   \n",
       "3  164      G. Pinzi   37       Italy       70         70    240000   2000   \n",
       "4  657    D. Vaughan   35       Wales       66         66    150000   4000   \n",
       "\n",
       "   Special Preferred Foot       ...        Composure  Marking  StandingTackle  \\\n",
       "0     1906          Right       ...               79       70              43   \n",
       "1     2058          Right       ...               89       67              57   \n",
       "2     2047           Left       ...               80       65              67   \n",
       "3     1882          Right       ...               68       74              71   \n",
       "4     1781           Left       ...               82       59              66   \n",
       "\n",
       "  SlidingTackle GKDiving GKHandling GKKicking  GKPositioning  GKReflexes  \\\n",
       "0            40        9         12        13             11          11   \n",
       "1            56        6         13         6             13           7   \n",
       "2            60        7         11         7             14           8   \n",
       "3            66        5         15         7              6          13   \n",
       "4            62        6          9        10              9           7   \n",
       "\n",
       "   Release Clause  \n",
       "0           €1.1M  \n",
       "1          €26.9M  \n",
       "2           €7.6M  \n",
       "3           €372K  \n",
       "4           €263K  \n",
       "\n",
       "[5 rows x 81 columns]"
      ]
     },
     "execution_count": 6,
     "metadata": {},
     "output_type": "execute_result"
    },
    {
     "data": {
      "text/plain": [
       "(15918, 41)"
      ]
     },
     "execution_count": 6,
     "metadata": {},
     "output_type": "execute_result"
    }
   ],
   "source": [
    "data=pd.read_csv(\"data 1.csv\")\n",
    "\n",
    "data.head()\n",
    "# 0 id\n",
    "#1 name \n",
    "\n",
    "#13 14 catgegorical\n",
    "fd = pd.concat([data.iloc[:,[0,1,2,8,10,11,12,13,14,18,19]], data.iloc[:,46:75], data.iloc[:,15]], axis=1)\n",
    "fd.shape\n",
    "\n",
    "fd=fd.loc[:,fd.columns!='Name']\n",
    "\n",
    "fd=fd.loc[:,fd.columns!='Weight']\n",
    "fd=fd.loc[:,fd.columns!='Height']\n",
    "fd=fd.loc[:,fd.columns!='Special']\n",
    "#fd=fd.loc[:,fd.columns!='Weak Foot']\n",
    "#fd=fd.loc[:,fd.columns!='Skill Moves']\n",
    "#fd=fd.loc[:,fd.columns!='attack_Work_Rate']\n",
    "#fd=fd.loc[:,fd.columns!='defense_workrate']\n",
    "fd_id=fd.iloc[:,0]\n",
    "fd=fd.iloc[:,1:]\n",
    "fd_position=fd.iloc[:,35]\n",
    "fd=fd.iloc[:,:35]"
   ]
  },
  {
   "cell_type": "code",
   "execution_count": 7,
   "metadata": {},
   "outputs": [],
   "source": [
    "#X=fd.iloc[:,0:30]\n",
    "#Y=fd.iloc[:,30]\n",
    "fd.iloc[:,0]=pd.to_numeric(fd.iloc[:,0], downcast='float')\n",
    "# taking out age\n",
    "#fd=fd.iloc[:,1:]\n",
    "fd.iloc[:,0]=np.reciprocal(fd.iloc[:,0])\n"
   ]
  },
  {
   "cell_type": "markdown",
   "metadata": {},
   "source": [
    "#### Encoding of categorical variables"
   ]
  },
  {
   "cell_type": "code",
   "execution_count": 8,
   "metadata": {},
   "outputs": [],
   "source": [
    "from sklearn.preprocessing import OneHotEncoder,LabelEncoder\n",
    "labelencoder_fd=LabelEncoder()\n",
    "fd.iloc[:,5]=labelencoder_fd.fit_transform(fd.iloc[:,5])\n",
    "fd.iloc[:,4]=labelencoder_fd.fit_transform(fd.iloc[:,4])"
   ]
  },
  {
   "cell_type": "markdown",
   "metadata": {},
   "source": [
    "#### Scaling the numerical values"
   ]
  },
  {
   "cell_type": "code",
   "execution_count": 9,
   "metadata": {},
   "outputs": [],
   "source": [
    "from sklearn.preprocessing import StandardScaler\n",
    "sc=StandardScaler()\n",
    "fd=sc.fit_transform(fd)\n"
   ]
  },
  {
   "cell_type": "markdown",
   "metadata": {},
   "source": [
    "#### Applying PCA"
   ]
  },
  {
   "cell_type": "code",
   "execution_count": 10,
   "metadata": {},
   "outputs": [],
   "source": [
    "from sklearn.decomposition import PCA\n",
    "pca=PCA(n_components=17) # replace by number of pc\n",
    "d=pca.fit_transform(fd)\n",
    "\n",
    "explained_variance=pca.explained_variance_ratio_\n",
    "\n"
   ]
  },
  {
   "cell_type": "markdown",
   "metadata": {},
   "source": [
    "### K-Means Clustering"
   ]
  },
  {
   "cell_type": "code",
   "execution_count": 11,
   "metadata": {},
   "outputs": [
    {
     "data": {
      "text/plain": [
       "KMeans(algorithm='auto', copy_x=True, init='k-means++', max_iter=300,\n",
       "    n_clusters=1, n_init=10, n_jobs=1, precompute_distances='auto',\n",
       "    random_state=None, tol=0.0001, verbose=0)"
      ]
     },
     "execution_count": 11,
     "metadata": {},
     "output_type": "execute_result"
    },
    {
     "data": {
      "text/plain": [
       "KMeans(algorithm='auto', copy_x=True, init='k-means++', max_iter=300,\n",
       "    n_clusters=2, n_init=10, n_jobs=1, precompute_distances='auto',\n",
       "    random_state=None, tol=0.0001, verbose=0)"
      ]
     },
     "execution_count": 11,
     "metadata": {},
     "output_type": "execute_result"
    },
    {
     "data": {
      "text/plain": [
       "KMeans(algorithm='auto', copy_x=True, init='k-means++', max_iter=300,\n",
       "    n_clusters=3, n_init=10, n_jobs=1, precompute_distances='auto',\n",
       "    random_state=None, tol=0.0001, verbose=0)"
      ]
     },
     "execution_count": 11,
     "metadata": {},
     "output_type": "execute_result"
    },
    {
     "data": {
      "text/plain": [
       "KMeans(algorithm='auto', copy_x=True, init='k-means++', max_iter=300,\n",
       "    n_clusters=4, n_init=10, n_jobs=1, precompute_distances='auto',\n",
       "    random_state=None, tol=0.0001, verbose=0)"
      ]
     },
     "execution_count": 11,
     "metadata": {},
     "output_type": "execute_result"
    },
    {
     "data": {
      "text/plain": [
       "KMeans(algorithm='auto', copy_x=True, init='k-means++', max_iter=300,\n",
       "    n_clusters=5, n_init=10, n_jobs=1, precompute_distances='auto',\n",
       "    random_state=None, tol=0.0001, verbose=0)"
      ]
     },
     "execution_count": 11,
     "metadata": {},
     "output_type": "execute_result"
    },
    {
     "data": {
      "text/plain": [
       "KMeans(algorithm='auto', copy_x=True, init='k-means++', max_iter=300,\n",
       "    n_clusters=6, n_init=10, n_jobs=1, precompute_distances='auto',\n",
       "    random_state=None, tol=0.0001, verbose=0)"
      ]
     },
     "execution_count": 11,
     "metadata": {},
     "output_type": "execute_result"
    },
    {
     "data": {
      "text/plain": [
       "KMeans(algorithm='auto', copy_x=True, init='k-means++', max_iter=300,\n",
       "    n_clusters=7, n_init=10, n_jobs=1, precompute_distances='auto',\n",
       "    random_state=None, tol=0.0001, verbose=0)"
      ]
     },
     "execution_count": 11,
     "metadata": {},
     "output_type": "execute_result"
    },
    {
     "data": {
      "text/plain": [
       "KMeans(algorithm='auto', copy_x=True, init='k-means++', max_iter=300,\n",
       "    n_clusters=8, n_init=10, n_jobs=1, precompute_distances='auto',\n",
       "    random_state=None, tol=0.0001, verbose=0)"
      ]
     },
     "execution_count": 11,
     "metadata": {},
     "output_type": "execute_result"
    },
    {
     "data": {
      "text/plain": [
       "KMeans(algorithm='auto', copy_x=True, init='k-means++', max_iter=300,\n",
       "    n_clusters=9, n_init=10, n_jobs=1, precompute_distances='auto',\n",
       "    random_state=None, tol=0.0001, verbose=0)"
      ]
     },
     "execution_count": 11,
     "metadata": {},
     "output_type": "execute_result"
    },
    {
     "data": {
      "text/plain": [
       "KMeans(algorithm='auto', copy_x=True, init='k-means++', max_iter=300,\n",
       "    n_clusters=10, n_init=10, n_jobs=1, precompute_distances='auto',\n",
       "    random_state=None, tol=0.0001, verbose=0)"
      ]
     },
     "execution_count": 11,
     "metadata": {},
     "output_type": "execute_result"
    },
    {
     "data": {
      "text/plain": [
       "KMeans(algorithm='auto', copy_x=True, init='k-means++', max_iter=300,\n",
       "    n_clusters=11, n_init=10, n_jobs=1, precompute_distances='auto',\n",
       "    random_state=None, tol=0.0001, verbose=0)"
      ]
     },
     "execution_count": 11,
     "metadata": {},
     "output_type": "execute_result"
    },
    {
     "data": {
      "text/plain": [
       "KMeans(algorithm='auto', copy_x=True, init='k-means++', max_iter=300,\n",
       "    n_clusters=12, n_init=10, n_jobs=1, precompute_distances='auto',\n",
       "    random_state=None, tol=0.0001, verbose=0)"
      ]
     },
     "execution_count": 11,
     "metadata": {},
     "output_type": "execute_result"
    },
    {
     "data": {
      "text/plain": [
       "KMeans(algorithm='auto', copy_x=True, init='k-means++', max_iter=300,\n",
       "    n_clusters=13, n_init=10, n_jobs=1, precompute_distances='auto',\n",
       "    random_state=None, tol=0.0001, verbose=0)"
      ]
     },
     "execution_count": 11,
     "metadata": {},
     "output_type": "execute_result"
    },
    {
     "data": {
      "text/plain": [
       "KMeans(algorithm='auto', copy_x=True, init='k-means++', max_iter=300,\n",
       "    n_clusters=14, n_init=10, n_jobs=1, precompute_distances='auto',\n",
       "    random_state=None, tol=0.0001, verbose=0)"
      ]
     },
     "execution_count": 11,
     "metadata": {},
     "output_type": "execute_result"
    },
    {
     "data": {
      "text/plain": [
       "KMeans(algorithm='auto', copy_x=True, init='k-means++', max_iter=300,\n",
       "    n_clusters=15, n_init=10, n_jobs=1, precompute_distances='auto',\n",
       "    random_state=None, tol=0.0001, verbose=0)"
      ]
     },
     "execution_count": 11,
     "metadata": {},
     "output_type": "execute_result"
    },
    {
     "data": {
      "text/plain": [
       "KMeans(algorithm='auto', copy_x=True, init='k-means++', max_iter=300,\n",
       "    n_clusters=16, n_init=10, n_jobs=1, precompute_distances='auto',\n",
       "    random_state=None, tol=0.0001, verbose=0)"
      ]
     },
     "execution_count": 11,
     "metadata": {},
     "output_type": "execute_result"
    },
    {
     "data": {
      "text/plain": [
       "[<matplotlib.lines.Line2D at 0x2b3a711d9e8>]"
      ]
     },
     "execution_count": 11,
     "metadata": {},
     "output_type": "execute_result"
    },
    {
     "data": {
      "image/png": "[encoded data removed]",
      "text/plain": [
       "<Figure size 432x288 with 1 Axes>"
      ]
     },
     "metadata": {
      "needs_background": "light"
     },
     "output_type": "display_data"
    }
   ],
   "source": [
    "\n",
    "from sklearn.cluster import KMeans\n",
    "wcss=[]\n",
    "for i in range(1,17):\n",
    "    kmeans=KMeans(n_clusters=i,init='k-means++',max_iter=300,n_init=10)\n",
    "    kmeans.fit(d)\n",
    "    wcss.append(kmeans.inertia_)\n",
    "plt.plot(range(1,17),wcss)\n",
    "plt.show()\n",
    "\n",
    "kmeans=KMeans(n_clusters=3,init='k-means++',max_iter=300,n_init=10)\n",
    "y_kmeans=kmeans.fit_predict(d)"
   ]
  },
  {
   "cell_type": "code",
   "execution_count": 12,
   "metadata": {},
   "outputs": [
    {
     "data": {
      "text/plain": [
       "<matplotlib.collections.PathCollection at 0x2b3a7ae1518>"
      ]
     },
     "execution_count": 12,
     "metadata": {},
     "output_type": "execute_result"
    },
    {
     "data": {
      "text/plain": [
       "<matplotlib.collections.PathCollection at 0x2b3a7ae1a58>"
      ]
     },
     "execution_count": 12,
     "metadata": {},
     "output_type": "execute_result"
    },
    {
     "data": {
      "text/plain": [
       "<matplotlib.collections.PathCollection at 0x2b3a7ae1e10>"
      ]
     },
     "execution_count": 12,
     "metadata": {},
     "output_type": "execute_result"
    },
    {
     "data": {
      "text/plain": [
       "<matplotlib.collections.PathCollection at 0x2b3a7ae1f98>"
      ]
     },
     "execution_count": 12,
     "metadata": {},
     "output_type": "execute_result"
    },
    {
     "data": {
      "text/plain": [
       "<matplotlib.legend.Legend at 0x2b3a7af2358>"
      ]
     },
     "execution_count": 12,
     "metadata": {},
     "output_type": "execute_result"
    },
    {
     "data": {
      "image/png": "[encoded data removed]",
      "text/plain": [
       "<Figure size 432x288 with 1 Axes>"
      ]
     },
     "metadata": {
      "needs_background": "light"
     },
     "output_type": "display_data"
    }
   ],
   "source": [
    "# Visualizing clusters \n",
    "plt.scatter(d[y_kmeans==0,0],d[y_kmeans==0,1],s=10,c='red',label='Good')\n",
    "plt.scatter(d[y_kmeans==1,0],d[y_kmeans==1,1],s=10,c='blue',label='Average')\n",
    "plt.scatter(d[y_kmeans==2,0],d[y_kmeans==2,1],s=10,c='green',label='Best')\n",
    "#plt.scatter(d[y_kmeans==3,0],d[y_kmeans==3,1],s=10,c='cyan',label='Cluster 3')\n",
    "#plt.scatter(d[y_kmeans==4,0],d[y_kmeans==4,1],s=10,c='magenta',label='Cluster 4')\n",
    "#plt.scatter(d[y_kmeans==5,0],d[y_kmeans==5,1],s=10,c='gray',label='Cluster 5')\n",
    "#plt.scatter(d[y_kmeans==6,0],d[y_kmeans==6,1],s=10,c='orange',label='Cluster 6')\n",
    "#plt.scatter(d[y_kmeans==7,0],d[y_kmeans==7,1],s=10,c='black',label='Cluster 7')\n",
    "\n",
    "plt.scatter(kmeans.cluster_centers_[:,0],kmeans.cluster_centers_[:,1],s=30,c='yellow',label='Centroids')\n",
    "\n",
    "plt.legend()\n",
    "plt.show()\n"
   ]
  },
  {
   "cell_type": "code",
   "execution_count": 13,
   "metadata": {},
   "outputs": [],
   "source": [
    "# cluster 3\n",
    "\n",
    "cluster_map = pd.DataFrame()\n",
    "cluster_map['data_index'] = data.index.values\n",
    "cluster_map['cluster'] = kmeans.labels_\n",
    "\n",
    "#cluster_map[cluster_map.cluster]"
   ]
  },
  {
   "cell_type": "code",
   "execution_count": 14,
   "metadata": {},
   "outputs": [],
   "source": [
    "final=pd.concat([data.iloc[:,[0,1,3,6,7,15]], cluster_map.cluster], axis=1)"
   ]
  },
  {
   "cell_type": "code",
   "execution_count": 15,
   "metadata": {},
   "outputs": [
    {
     "data": {
      "text/plain": [
       "<matplotlib.axes._subplots.AxesSubplot at 0x2b3a7aff2b0>"
      ]
     },
     "execution_count": 15,
     "metadata": {},
     "output_type": "execute_result"
    },
    {
     "data": {
      "text/plain": [
       "<matplotlib.axes._subplots.AxesSubplot at 0x2b3a7aff2b0>"
      ]
     },
     "execution_count": 15,
     "metadata": {},
     "output_type": "execute_result"
    },
    {
     "data": {
      "image/png": "[encoded data removed]",
      "text/plain": [
       "<Figure size 432x288 with 1 Axes>"
      ]
     },
     "metadata": {
      "needs_background": "light"
     },
     "output_type": "display_data"
    }
   ],
   "source": [
    "# best\n",
    "cl=final[final['cluster']==2]\n",
    "\n",
    "cl['Position'].value_counts().plot.bar(color='purple')\n",
    "cl['Nationality'].value_counts().head(20).plot.bar(color='purple')\n"
   ]
  },
  {
   "cell_type": "code",
   "execution_count": 16,
   "metadata": {},
   "outputs": [
    {
     "data": {
      "text/plain": [
       "<matplotlib.axes._subplots.AxesSubplot at 0x2b3a8984ac8>"
      ]
     },
     "execution_count": 16,
     "metadata": {},
     "output_type": "execute_result"
    },
    {
     "data": {
      "text/plain": [
       "<matplotlib.axes._subplots.AxesSubplot at 0x2b3a8984ac8>"
      ]
     },
     "execution_count": 16,
     "metadata": {},
     "output_type": "execute_result"
    },
    {
     "data": {
      "image/png": "[encoded data removed]",
      "text/plain": [
       "<Figure size 432x288 with 1 Axes>"
      ]
     },
     "metadata": {
      "needs_background": "light"
     },
     "output_type": "display_data"
    }
   ],
   "source": [
    "# Good\n",
    "cl0=final[final['cluster']==0]\n",
    "\n",
    "cl0['Position'].value_counts().plot.bar(color='purple')\n",
    "cl0['Nationality'].value_counts().head(20).plot.bar(color='purple')\n",
    "#cl0['Value'].value_counts().head(20).plot.bar(color='purple')\n"
   ]
  },
  {
   "cell_type": "code",
   "execution_count": 17,
   "metadata": {},
   "outputs": [
    {
     "data": {
      "text/plain": [
       "<matplotlib.axes._subplots.AxesSubplot at 0x2b3a894ee80>"
      ]
     },
     "execution_count": 17,
     "metadata": {},
     "output_type": "execute_result"
    },
    {
     "data": {
      "text/plain": [
       "<matplotlib.axes._subplots.AxesSubplot at 0x2b3a894ee80>"
      ]
     },
     "execution_count": 17,
     "metadata": {},
     "output_type": "execute_result"
    },
    {
     "data": {
      "image/png": "[encoded data removed]",
      "text/plain": [
       "<Figure size 432x288 with 1 Axes>"
      ]
     },
     "metadata": {
      "needs_background": "light"
     },
     "output_type": "display_data"
    }
   ],
   "source": [
    "# Average\n",
    "cl1=final[final['cluster']==1]\n",
    "\n",
    "cl1['Position'].value_counts().plot.bar(color='purple')\n",
    "cl1['Nationality'].value_counts().head(20).plot.bar(color='purple')\n",
    "#cl1['Value'].value_counts().head(20).plot.bar(color='purple')"
   ]
  },
  {
   "cell_type": "code",
   "execution_count": 21,
   "metadata": {},
   "outputs": [
    {
     "data": {
      "text/plain": [
       "<matplotlib.axes._subplots.AxesSubplot at 0x2b3a9e95d30>"
      ]
     },
     "execution_count": 21,
     "metadata": {},
     "output_type": "execute_result"
    },
    {
     "data": {
      "image/png": "[encoded data removed]",
      "text/plain": [
       "<Figure size 432x288 with 1 Axes>"
      ]
     },
     "metadata": {
      "needs_background": "light"
     },
     "output_type": "display_data"
    }
   ],
   "source": [
    "cl['Position'].value_counts().head(20).plot.bar(color='purple')\n",
    "\n",
    "\n"
   ]
  },
  {
   "cell_type": "code",
   "execution_count": 22,
   "metadata": {},
   "outputs": [
    {
     "data": {
      "text/plain": [
       "<matplotlib.axes._subplots.AxesSubplot at 0x2b3a9f39cf8>"
      ]
     },
     "execution_count": 22,
     "metadata": {},
     "output_type": "execute_result"
    },
    {
     "data": {
      "image/png": "[encoded data removed]",
      "text/plain": [
       "<Figure size 432x288 with 1 Axes>"
      ]
     },
     "metadata": {
      "needs_background": "light"
     },
     "output_type": "display_data"
    }
   ],
   "source": [
    "cl0['Position'].value_counts().head(20).plot.bar(color='purple')"
   ]
  },
  {
   "cell_type": "code",
   "execution_count": 23,
   "metadata": {},
   "outputs": [
    {
     "data": {
      "text/plain": [
       "<matplotlib.axes._subplots.AxesSubplot at 0x2b3a8979be0>"
      ]
     },
     "execution_count": 23,
     "metadata": {},
     "output_type": "execute_result"
    },
    {
     "data": {
      "image/png": "[encoded data removed]",
      "text/plain": [
       "<Figure size 432x288 with 1 Axes>"
      ]
     },
     "metadata": {
      "needs_background": "light"
     },
     "output_type": "display_data"
    }
   ],
   "source": [
    "cl1['Position'].value_counts().head(20).plot.bar(color='purple')"
   ]
  }
 ],
 "metadata": {
  "kernelspec": {
   "display_name": "Python 3",
   "language": "python",
   "name": "python3"
  },
  "language_info": {
   "codemirror_mode": {
    "name": "ipython",
    "version": 3
   },
   "file_extension": ".py",
   "mimetype": "text/x-python",
   "name": "python",
   "nbconvert_exporter": "python",
   "pygments_lexer": "ipython3",
   "version": "3.7.6"
  }
 },
 "nbformat": 4,
 "nbformat_minor": 2
}
